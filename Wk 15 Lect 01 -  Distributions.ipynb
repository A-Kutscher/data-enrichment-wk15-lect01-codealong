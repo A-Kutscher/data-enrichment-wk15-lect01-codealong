{
 "cells": [
  {
   "cell_type": "markdown",
   "id": "819768dd",
   "metadata": {},
   "source": [
    "# From Distributions to Hypotheses"
   ]
  },
  {
   "cell_type": "markdown",
   "id": "aa1b2062",
   "metadata": {},
   "source": [
    "## Learning Objectives"
   ]
  },
  {
   "cell_type": "markdown",
   "id": "4e8ecd70",
   "metadata": {},
   "source": [
    "- To understand what a probability density function is.\n",
    "- To calculate probabilities of observing specific values. \n",
    "- To understand the standard normal distribution and why its so helpful"
   ]
  },
  {
   "cell_type": "code",
   "execution_count": null,
   "id": "c0521e9b",
   "metadata": {},
   "outputs": [],
   "source": []
  },
  {
   "cell_type": "markdown",
   "id": "b8688cf5",
   "metadata": {},
   "source": [
    "# CodeAlong"
   ]
  },
  {
   "cell_type": "code",
   "execution_count": null,
   "id": "e4b02c30",
   "metadata": {
    "ExecuteTime": {
     "end_time": "2022-06-02T23:50:10.771876Z",
     "start_time": "2022-06-02T23:50:10.032439Z"
    }
   },
   "outputs": [],
   "source": [
    "import pandas as pd\n",
    "import numpy as np\n",
    "\n",
    "import matplotlib as mpl\n",
    "import matplotlib.pyplot as plt\n",
    "import seaborn as sns\n",
    "from scipy import stats\n",
    "\n",
    "sns.set_context('talk')\n",
    "mpl.rcParams['figure.figsize'] = [12,6]"
   ]
  },
  {
   "cell_type": "markdown",
   "id": "9f47ff3c",
   "metadata": {},
   "source": [
    "# Calculating Probabilities and Probability Density Functions (with scipy)"
   ]
  },
  {
   "cell_type": "code",
   "execution_count": null,
   "id": "7d883d89",
   "metadata": {},
   "outputs": [],
   "source": [
    "df = pd.read_csv(\"Data/weight-height.csv\")\n",
    "df"
   ]
  },
  {
   "cell_type": "code",
   "execution_count": null,
   "id": "0ba120ae",
   "metadata": {},
   "outputs": [],
   "source": [
    "## taking smaller sample for easier vis\n",
    "sample = df.sample(n=1000, random_state=321)"
   ]
  },
  {
   "cell_type": "code",
   "execution_count": null,
   "id": "14566dce",
   "metadata": {},
   "outputs": [],
   "source": [
    "sns.barplot(data=sample, x='Gender',y='Height');"
   ]
  },
  {
   "cell_type": "markdown",
   "id": "8c5ed185",
   "metadata": {},
   "source": [
    "<!-- > Question:  -->"
   ]
  },
  {
   "cell_type": "code",
   "execution_count": null,
   "id": "0dd08280",
   "metadata": {},
   "outputs": [],
   "source": [
    "group_means = sample.groupby('Gender')['Height'].mean()\n",
    "group_means"
   ]
  },
  {
   "cell_type": "code",
   "execution_count": null,
   "id": "b6bee52c",
   "metadata": {},
   "outputs": [],
   "source": [
    "sns.countplot(data=sample, x='Gender')"
   ]
  },
  {
   "cell_type": "code",
   "execution_count": null,
   "id": "5a027c1d",
   "metadata": {},
   "outputs": [],
   "source": [
    "palette = {'Female':'tab:orange','Male':'tab:blue'}\n",
    "fig, ax = plt.subplots(figsize=(12,5))\n",
    "\n",
    "sns.histplot(data=sample, hue='Gender',x='Height',kde=True,stat='probability',\n",
    "        ax=ax,palette=palette,common_norm=False,)\n",
    "\n",
    "ax.axvline(group_means.loc['Male'], color=palette['Male'],ls='--',lw=5,\n",
    "           label='Males')\n",
    "ax.axvline(group_means.loc['Female'],color=palette['Female'],ls='--', lw=5,\n",
    "           label='Females')\n",
    "ax.legend();"
   ]
  },
  {
   "cell_type": "code",
   "execution_count": null,
   "id": "be610207",
   "metadata": {},
   "outputs": [],
   "source": [
    "group_stats = sample.groupby('Gender')['Height'].agg(['mean','std','min','max'])\n",
    "group_stats"
   ]
  },
  {
   "cell_type": "markdown",
   "id": "88b2bcb9",
   "metadata": {},
   "source": [
    "### Generating a Distribution with Scipy"
   ]
  },
  {
   "cell_type": "code",
   "execution_count": null,
   "id": "8fd0f834",
   "metadata": {},
   "outputs": [],
   "source": [
    "# xs = x= np.linspace(curr_group.loc['min']-2, curr_group.loc['max']+2,)\n",
    "# xs"
   ]
  },
  {
   "cell_type": "code",
   "execution_count": null,
   "id": "2f1cc73b",
   "metadata": {},
   "outputs": [],
   "source": [
    "def get_group_stats(sample, group, measure=\"Height\", group_col=\"Gender\", \n",
    "                    pad_x=2, include_data=True):\n",
    "    ## Slice out group data\n",
    "    temp_data = sample.loc[ sample[group_col]==group, [measure]]\n",
    "    \n",
    "    ## calculate x values that span the data min - pad_x to data max+pad_x\n",
    "    xs = x= np.linspace(temp_data.min()-pad_x, temp_data.max()+pad_x)\n",
    "    \n",
    "    ## Save initial data to dict (group name, group col)\n",
    "    group_data = {'group_col':group_col, 'group_name':group,\n",
    "                  'measure_col':measure,\n",
    "                  'mean': np.mean(temp_data.values),\n",
    "                  'std':np.std(temp_data.values)}\n",
    "    \n",
    "    pdf = stats.norm.pdf(xs,loc=group_data[\"mean\"], \n",
    "                          scale=group_data[\"std\"])\n",
    "    group_data['xs'] = xs.flatten()\n",
    "    group_data['pdf'] = pdf.flatten()\n",
    "    \n",
    "    if include_data:\n",
    "        group_data['data'] = temp_data.values.flatten()\n",
    "    return group_data"
   ]
  },
  {
   "cell_type": "code",
   "execution_count": null,
   "id": "205ade0c",
   "metadata": {},
   "outputs": [],
   "source": [
    "females = get_group_stats(sample, \"Female\",include_data=False)\n",
    "females.keys()"
   ]
  },
  {
   "cell_type": "code",
   "execution_count": null,
   "id": "a0f7ec80",
   "metadata": {},
   "outputs": [],
   "source": [
    "# females.pop('data')"
   ]
  },
  {
   "cell_type": "code",
   "execution_count": null,
   "id": "30d3eb5c",
   "metadata": {},
   "outputs": [],
   "source": [
    "females.keys()"
   ]
  },
  {
   "cell_type": "code",
   "execution_count": null,
   "id": "8deebb2c",
   "metadata": {},
   "outputs": [],
   "source": [
    "## loop to save data for \n",
    "group_stats = {}\n",
    "\n",
    "for gender in sample['Gender'].unique():\n",
    "    \n",
    "    group_stats[gender] = get_group_stats(sample,gender)\n",
    "\n",
    "    \n",
    "group_stats.keys()"
   ]
  },
  {
   "cell_type": "code",
   "execution_count": null,
   "id": "f52fdff9",
   "metadata": {},
   "outputs": [],
   "source": [
    "group_stats[\"Male\"].keys()"
   ]
  },
  {
   "cell_type": "code",
   "execution_count": null,
   "id": "cb1e0051",
   "metadata": {},
   "outputs": [],
   "source": [
    "curr_group = group_stats['Male']\n",
    "curr_group.keys()"
   ]
  },
  {
   "cell_type": "code",
   "execution_count": null,
   "id": "17702c32",
   "metadata": {},
   "outputs": [],
   "source": [
    "plt.plot(curr_group['xs'],curr_group['pdf'], label=curr_group['group_name'])\n",
    "plt.legend()"
   ]
  },
  {
   "cell_type": "code",
   "execution_count": null,
   "id": "9a3b2df3",
   "metadata": {},
   "outputs": [],
   "source": [
    "# ax = sns.histplot(data=sample.loc[df['Gender']=='Male'],x='Height',\n",
    "#                   kde=True, fill=False, stat='density',\n",
    "#             label='KDE')\n",
    "# ax.plot(xs,curr_pdf, label='PDF',color='k',ls=':')\n",
    "# ax.legend()"
   ]
  },
  {
   "cell_type": "code",
   "execution_count": null,
   "id": "f003c81c",
   "metadata": {},
   "outputs": [],
   "source": [
    "ax = sns.histplot(curr_group['data'],\n",
    "                  kde=True, fill=False, stat='density',\n",
    "            label='KDE')\n",
    "ax.plot(curr_group['xs'],curr_group['pdf'], label='PDF',color='k',ls=':')\n",
    "title = f\"Distribution of {curr_group['measure_col']} for {curr_group['group_col']}={curr_group['group_name']}\"\n",
    "ax.set_title(title)\n",
    "ax.legend()"
   ]
  },
  {
   "cell_type": "code",
   "execution_count": null,
   "id": "e6c546a4",
   "metadata": {},
   "outputs": [],
   "source": [
    "ax = sns.kdeplot(curr_group['data'], label='KDE',lw=5,ls=':')\n",
    "ax.plot(curr_group['xs'],curr_group['pdf'], label='PDF',color='k',ls=':',lw=3)\n",
    "ax.set_title(f\"{curr_group['group_name']} Kernel-Density Estimate\\n vs Normal Distribution PDF\")\n",
    "ax.legend()"
   ]
  },
  {
   "cell_type": "markdown",
   "id": "14d57ead",
   "metadata": {},
   "source": [
    "> Make a point about how similar they are in shape and that we can calculate things from a perfect normal distribution that has the same mean and std"
   ]
  },
  {
   "cell_type": "markdown",
   "id": "587acc4b",
   "metadata": {},
   "source": [
    "## Q: What is the probability of having a male that is **exactly** 60 inches tall?\n"
   ]
  },
  {
   "cell_type": "code",
   "execution_count": null,
   "id": "55950822",
   "metadata": {},
   "outputs": [],
   "source": [
    "\n",
    "fig, ax = plt.subplots(figsize=(12,7))\n",
    "ax.plot(curr_group['xs'],curr_group['pdf'], label='PDF',color='k',ls=':',lw=3)\n",
    "ax.set_title(\"Male Height PDF\")\n",
    "\n",
    "ax.axvline(60,label='Unknown Gender',color='purple',ls='--')\n",
    "ax.legend(bbox_to_anchor=[1,1])\n",
    "ax.set_ylim(bottom=0)"
   ]
  },
  {
   "cell_type": "code",
   "execution_count": null,
   "id": "ad6cbcc4",
   "metadata": {},
   "outputs": [],
   "source": [
    "p_male = stats.norm.pdf(60, loc=group_stats[\"Male\"]['mean'], \n",
    "                          scale=group_stats[\"Male\"]['std'])\n",
    "p_male"
   ]
  },
  {
   "cell_type": "code",
   "execution_count": null,
   "id": "6aa60406",
   "metadata": {},
   "outputs": [],
   "source": [
    "p_female = stats.norm.pdf(60, loc=group_stats[\"Female\"]['mean'], \n",
    "                          scale=group_stats[\"Female\"]['std'])\n",
    "p_female"
   ]
  },
  {
   "cell_type": "markdown",
   "id": "8776cda3",
   "metadata": {},
   "source": [
    "- Answer: \n",
    "    - The probability the person with an unknown gender is a male is 0.00075 (a .075% chance).\n",
    "    - The probability they are a Fmale is 0.054 (a 5.4% chance)."
   ]
  },
  {
   "cell_type": "code",
   "execution_count": null,
   "id": "bc413aad",
   "metadata": {},
   "outputs": [],
   "source": [
    "palette = {'Female':'tab:orange','Male':'tab:blue'}\n",
    "fig, ax = plt.subplots(figsize=(12,7))\n",
    "sns.histplot(data=sample, hue='Gender',x='Height',fill=False,kde=True,stat='probability',\n",
    "        ax=ax,palette=palette,common_norm=False,)\n",
    "\n",
    "ax.axvline(60,label='Unknown Gender',color='purple',ls='--')\n",
    "ax.legend();"
   ]
  },
  {
   "cell_type": "markdown",
   "id": "3cfeb5f9",
   "metadata": {},
   "source": [
    "## Q: What is the probability of a female having a height of 70 inches ***or taller?***"
   ]
  },
  {
   "cell_type": "code",
   "execution_count": null,
   "id": "cdf2cbbd",
   "metadata": {},
   "outputs": [],
   "source": [
    "\n",
    "\n",
    "fig, ax = plt.subplots(figsize=(12,7))\n",
    "ax.plot(group_stats[\"Female\"]['xs'], group_stats['Female']['pdf'],\n",
    "       label='PDF',color='k',ls=':',lw=3)\n",
    "\n",
    "# ax.plot(curr_group['xs'],curr_group['pdf'], label='PDF',color='k',ls=':',lw=3)\n",
    "ax.set_title(\"Female Height PDF\")\n",
    "\n",
    "ax.axvline(70,label='Unknown Gender',color='purple',ls='--')\n",
    "ax.legend(bbox_to_anchor=[1,1])\n",
    "ax.set_ylim(bottom=0)"
   ]
  },
  {
   "cell_type": "markdown",
   "id": "4d354a04",
   "metadata": {},
   "source": [
    "### CDF vs PDF"
   ]
  },
  {
   "cell_type": "code",
   "execution_count": null,
   "id": "ea8de0e2",
   "metadata": {},
   "outputs": [],
   "source": [
    "male_cdf = stats.norm.cdf(group_stats['Male']['xs'], loc=group_stats[\"Male\"]['mean'], \n",
    "                          scale=group_stats[\"Male\"]['std'])\n",
    "male_cdf"
   ]
  },
  {
   "cell_type": "code",
   "execution_count": null,
   "id": "74919e19",
   "metadata": {},
   "outputs": [],
   "source": [
    "def get_group_stats(sample, group, measure=\"Height\", group_col=\"Gender\", \n",
    "                    pad_x=2, include_data=True):\n",
    "    ## Slice out group data\n",
    "    temp_data = sample.loc[ sample[group_col]==group, [measure]]\n",
    "    \n",
    "    ## calculate x values that span the data min - pad_x to data max+pad_x\n",
    "    xs = x= np.linspace(temp_data.min()-pad_x, temp_data.max()+pad_x)\n",
    "    \n",
    "    ## Save initial data to dict (group name, group col)\n",
    "    group_data = {'group_col':group_col, 'group_name':group,\n",
    "                  'measure_col':measure,\n",
    "                  'mean': np.mean(temp_data.values),\n",
    "                  'std':np.std(temp_data.values)}\n",
    "    \n",
    "    pdf = stats.norm.pdf(xs,loc=group_data[\"mean\"], \n",
    "                          scale=group_data[\"std\"])\n",
    "    \n",
    "    cdf = stats.norm.cdf(xs, loc=group_data[\"mean\"], \n",
    "                          scale=group_data[\"std\"])\n",
    "    group_data['xs'] = xs.flatten()\n",
    "    group_data['pdf'] = pdf.flatten()\n",
    "    group_data['cdf'] = cdf.flatten()\n",
    "    \n",
    "    if include_data:\n",
    "        group_data['data'] = temp_data.values.flatten()\n",
    "    return group_data"
   ]
  },
  {
   "cell_type": "code",
   "execution_count": null,
   "id": "efbbac5d",
   "metadata": {},
   "outputs": [],
   "source": [
    "## loop to save data for \n",
    "group_stats = {}\n",
    "\n",
    "for gender in sample['Gender'].unique():\n",
    "    \n",
    "    group_stats[gender] = get_group_stats(sample,gender)\n",
    "\n",
    "    \n",
    "print(group_stats.keys())\n",
    "print(group_stats['Female'].keys())"
   ]
  },
  {
   "cell_type": "code",
   "execution_count": null,
   "id": "9450feb0",
   "metadata": {},
   "outputs": [],
   "source": [
    "fig,axes =plt.subplots(nrows=2,figsize=(8,8),sharex=False)\n",
    "axes[0].set_title(f'Comparing PDF/CDF for Male Height')\n",
    "axes[0].plot(group_stats['Male']['xs'], group_stats['Male']['pdf'], label='PDF')\n",
    "axes[0].set_ylabel('Probability Density')\n",
    "axes[0].axvline(70,color='purple',ls='--')\n",
    "axes[0].legend(bbox_to_anchor=[1,1])\n",
    "axes[0].set_ylim(bottom=0)\n",
    "\n",
    "axes[1].plot(group_stats['Male']['xs'], group_stats['Male']['cdf'], color='g',label='CDF')\n",
    "axes[1].axvline(70,color='purple',ls='--')\n",
    "axes[1].set_ylabel('Cumulative Probability')\n",
    "axes[1].legend(bbox_to_anchor=[1,1])\n",
    "axes[1].set_ylim(bottom=0)"
   ]
  },
  {
   "cell_type": "code",
   "execution_count": null,
   "id": "40946405",
   "metadata": {},
   "outputs": [],
   "source": [
    "p_male = 1 - stats.norm.cdf(70, loc=group_stats[\"Male\"]['mean'], \n",
    "                          scale=group_stats[\"Male\"]['std'])\n",
    "p_male"
   ]
  },
  {
   "cell_type": "code",
   "execution_count": null,
   "id": "00543a05",
   "metadata": {},
   "outputs": [],
   "source": [
    "fig,axes =plt.subplots(nrows=2,figsize=(8,8),sharex=False)\n",
    "axes[0].plot(group_stats['Female']['xs'], group_stats['Female']['pdf'], label='PDF')\n",
    "axes[0].set_ylabel('Probability Density')\n",
    "axes[0].set_title(f'Comparing PDF/CDF for Female Height')\n",
    "axes[0].axvline(70,color='purple',ls='--')\n",
    "axes[0].legend(bbox_to_anchor=[1,1])\n",
    "axes[0].set_ylim(bottom=0)\n",
    "\n",
    "axes[1].plot(group_stats['Female']['xs'], group_stats['Female']['cdf'], color='g',label='CDF')\n",
    "axes[1].axvline(70,color='purple',ls='--')\n",
    "axes[1].set_ylabel('Cumulative Probability')\n",
    "axes[1].legend(bbox_to_anchor=[1,1])\n",
    "axes[1].set_ylim(bottom=0)"
   ]
  },
  {
   "cell_type": "code",
   "execution_count": null,
   "id": "fa7cedfc",
   "metadata": {},
   "outputs": [],
   "source": [
    "p_female = 1 - stats.norm.cdf(70, loc=group_stats[\"Female\"]['mean'], \n",
    "                          scale=group_stats[\"Female\"]['std'])\n",
    "p_female"
   ]
  },
  {
   "cell_type": "markdown",
   "id": "43200b96",
   "metadata": {},
   "source": [
    "## Comparing Group Means"
   ]
  },
  {
   "cell_type": "code",
   "execution_count": null,
   "id": "6688a62d",
   "metadata": {
    "ExecuteTime": {
     "end_time": "2022-06-02T23:50:10.774869Z",
     "start_time": "2022-06-02T23:50:10.773128Z"
    }
   },
   "outputs": [],
   "source": [
    "# !pip install kaggle"
   ]
  },
  {
   "cell_type": "code",
   "execution_count": null,
   "id": "1ab876f0",
   "metadata": {
    "ExecuteTime": {
     "end_time": "2022-06-02T23:50:11.721089Z",
     "start_time": "2022-06-02T23:50:10.775674Z"
    }
   },
   "outputs": [],
   "source": [
    "## download kaggle dataset using kaggle api\n",
    "## employee annual salary: https://www.kaggle.com/datasets/dsfelix/employees-annual-salary-in-chicago\n",
    "# !kaggle datasets download -d dsfelix/employees-annual-salary-in-chicago\n",
    "# !ls -a"
   ]
  },
  {
   "cell_type": "code",
   "execution_count": null,
   "id": "23454e41",
   "metadata": {
    "ExecuteTime": {
     "end_time": "2022-06-02T23:51:09.629422Z",
     "start_time": "2022-06-02T23:50:11.734348Z"
    }
   },
   "outputs": [],
   "source": [
    "# ## unzip the downloaded dataset\n",
    "# from zipfile import ZipFile,ZipInfo\n",
    "# zfile = ZipFile(\"employees-annual-salary-in-chicago.zip\")\n",
    "# zfile.extractall()"
   ]
  },
  {
   "cell_type": "code",
   "execution_count": null,
   "id": "8c638dda",
   "metadata": {
    "ExecuteTime": {
     "end_time": "2022-06-02T23:51:09.715312Z",
     "start_time": "2022-06-02T23:51:09.635997Z"
    },
    "scrolled": true
   },
   "outputs": [],
   "source": [
    "## load data as df\n",
    "df = pd.read_csv('salary.csv')\n",
    "df = df.dropna(subset=['Annual Salary'])\n",
    "# df = df.sample(n=10000,random_state=321)\n",
    "df.info()\n",
    "print(df.isna().sum())\n",
    "df"
   ]
  },
  {
   "cell_type": "code",
   "execution_count": null,
   "id": "51de73a4",
   "metadata": {},
   "outputs": [],
   "source": [
    "df.nunique()"
   ]
  },
  {
   "cell_type": "code",
   "execution_count": null,
   "id": "643b4b2d",
   "metadata": {},
   "outputs": [],
   "source": [
    "df['Department'].value_counts()"
   ]
  },
  {
   "cell_type": "code",
   "execution_count": null,
   "id": "5c0d3c0c",
   "metadata": {},
   "outputs": [],
   "source": [
    "# keep only police and fire\n",
    "df = df[ df['Department'].isin(['POLICE','FIRE'])]\n",
    "df['Department'].value_counts()"
   ]
  },
  {
   "cell_type": "code",
   "execution_count": null,
   "id": "2ee955d2",
   "metadata": {},
   "outputs": [],
   "source": [
    "df"
   ]
  },
  {
   "cell_type": "code",
   "execution_count": null,
   "id": "154d259f",
   "metadata": {},
   "outputs": [],
   "source": [
    "sample = df.groupby('Department').sample(n=2000,random_state=321)\n",
    "sample.info()\n",
    "sample"
   ]
  },
  {
   "cell_type": "code",
   "execution_count": null,
   "id": "27ebcfad",
   "metadata": {},
   "outputs": [],
   "source": [
    "# "
   ]
  },
  {
   "cell_type": "code",
   "execution_count": null,
   "id": "2a382d8d",
   "metadata": {},
   "outputs": [],
   "source": [
    "sample['Department'].value_counts()"
   ]
  },
  {
   "cell_type": "code",
   "execution_count": null,
   "id": "31182d94",
   "metadata": {},
   "outputs": [],
   "source": []
  },
  {
   "cell_type": "code",
   "execution_count": null,
   "id": "1ae16ed5",
   "metadata": {},
   "outputs": [],
   "source": [
    "# df['police'] = df['Department']==\"POLICE\"\n"
   ]
  },
  {
   "cell_type": "code",
   "execution_count": null,
   "id": "493c8d19",
   "metadata": {},
   "outputs": [],
   "source": [
    "sns.barplot(data=sample, x='Department',y='Annual Salary')"
   ]
  },
  {
   "cell_type": "code",
   "execution_count": null,
   "id": "9624a689",
   "metadata": {},
   "outputs": [],
   "source": [
    "sample['Annual Salary'].describe()"
   ]
  },
  {
   "cell_type": "code",
   "execution_count": null,
   "id": "fd81d0ef",
   "metadata": {},
   "outputs": [],
   "source": [
    "from matplotlib.ticker import FuncFormatter\n",
    "\n",
    "def format_salary_Ks(x,pos):\n",
    "    x_out = x / 1000\n",
    "    return f\"${x_out:,.0f}K\"\n",
    "\n",
    "\n",
    "fmt_thous = FuncFormatter(format_salary_Ks)"
   ]
  },
  {
   "cell_type": "code",
   "execution_count": null,
   "id": "21ae3fb0",
   "metadata": {},
   "outputs": [],
   "source": [
    "fig, ax = plt.subplots(figsize=(12,7))\n",
    "palette = {'FIRE':'red', \"POLICE\":'blue'}\n",
    "sns.histplot(data=sample, hue='Department',x='Annual Salary',kde=False,stat='density',\n",
    "        common_norm=False,ax=ax,palette=palette)\n",
    "ax.xaxis.set_major_formatter(fmt_thous)"
   ]
  },
  {
   "cell_type": "code",
   "execution_count": null,
   "id": "dab6f644",
   "metadata": {},
   "outputs": [],
   "source": [
    "group_means = sample.groupby('Department')['Annual Salary'].mean()\n",
    "group_means"
   ]
  },
  {
   "cell_type": "code",
   "execution_count": null,
   "id": "035a3731",
   "metadata": {},
   "outputs": [],
   "source": [
    "fig, ax = plt.subplots(figsize=(12,7))\n",
    "palette = {'FIRE':'red', \"POLICE\":'blue'}\n",
    "sns.histplot(data=sample, hue='Department',x='Annual Salary',kde=True,stat='density',\n",
    "        common_norm=False,ax=ax,palette=palette)\n",
    "\n",
    "ax.axvline(group_means.loc['FIRE'], color=palette['FIRE'],ls='--',lw=3,label='FIRE')\n",
    "ax.axvline(group_means.loc['POLICE'], color=palette['POLICE'],ls='--',lw=3,label='POLICE')\n",
    "ax.legend();\n",
    "ax.xaxis.set_major_formatter(fmt_thous)"
   ]
  },
  {
   "cell_type": "markdown",
   "id": "ae6d8f51",
   "metadata": {},
   "source": [
    "## Question: do fire fighters get paid SIGNIFICANTLY more than police?"
   ]
  },
  {
   "cell_type": "markdown",
   "id": "b45fe36f",
   "metadata": {},
   "source": [
    "- $H_0$: Fire fighters and police officers are paid similar annual salaries.\n",
    "- $H_1$: Fire fighters and police officers are paid significantly different annual salaries."
   ]
  },
  {
   "cell_type": "code",
   "execution_count": null,
   "id": "e6664031",
   "metadata": {},
   "outputs": [],
   "source": []
  },
  {
   "cell_type": "code",
   "execution_count": null,
   "id": "baafddfc",
   "metadata": {},
   "outputs": [],
   "source": []
  },
  {
   "cell_type": "code",
   "execution_count": null,
   "id": "3ec268a1",
   "metadata": {},
   "outputs": [],
   "source": [
    "grp_fire = sample.loc[sample['Department']==\"FIRE\", 'Annual Salary']\n",
    "grp_police = sample.loc[sample['Department']==\"POLICE\", \"Annual Salary\"]\n",
    "\n",
    "display(grp_fire.head(), grp_police.head())"
   ]
  },
  {
   "cell_type": "code",
   "execution_count": null,
   "id": "2a286290",
   "metadata": {},
   "outputs": [],
   "source": [
    "ax = sns.histplot(grp_fire,kde=True,fill=False,stat='density',color='red');\n",
    "ax.set_title('Fire Fighters');"
   ]
  },
  {
   "cell_type": "code",
   "execution_count": null,
   "id": "3b1aa96e",
   "metadata": {},
   "outputs": [],
   "source": [
    "ax = sns.histplot(grp_police,kde=True,fill=False,stat='density',color='blue');\n",
    "ax.set_title('Police');"
   ]
  },
  {
   "cell_type": "code",
   "execution_count": null,
   "id": "9a884485",
   "metadata": {},
   "outputs": [],
   "source": [
    "## loop to save data for \n",
    "group_stats = {}\n",
    "\n",
    "for dept in sample['Department'].unique():\n",
    "    \n",
    "    group_stats[dept] = get_group_stats(sample,dept,group_col='Department',\n",
    "                                       measure='Annual Salary',pad_x=10_000)\n",
    "\n",
    "    \n",
    "group_stats.keys()"
   ]
  },
  {
   "cell_type": "code",
   "execution_count": null,
   "id": "2d25c3d2",
   "metadata": {},
   "outputs": [],
   "source": [
    "group_stats['FIRE'].keys()"
   ]
  },
  {
   "cell_type": "code",
   "execution_count": null,
   "id": "45a31929",
   "metadata": {},
   "outputs": [],
   "source": [
    "sample.groupby(\"Department\")['Annual Salary'].agg(['mean','std','min','max'])"
   ]
  },
  {
   "cell_type": "code",
   "execution_count": null,
   "id": "3b7f9ea9",
   "metadata": {},
   "outputs": [],
   "source": [
    "fig, ax = plt.subplots(figsize=(10,5))\n",
    "ax.plot(group_stats['FIRE']['xs'],group_stats['FIRE']['pdf'],color='red',\n",
    "       label='FIRE')\n",
    "\n",
    "\n",
    "ax.plot(group_stats['POLICE']['xs'],group_stats['POLICE']['pdf'],color='blue',\n",
    "       label='POLICE')\n",
    "ax.legend()\n",
    "ax.set_ylim(bottom=0)\n",
    "\n",
    "ax.axvline(group_stats['FIRE']['mean'], color='red',ls='--')\n",
    "ax.axvline(group_stats['POLICE']['mean'], color='blue',ls='--')"
   ]
  },
  {
   "cell_type": "code",
   "execution_count": null,
   "id": "3f79acc5",
   "metadata": {},
   "outputs": [],
   "source": [
    "# sample.groupby(\"Department\")['Annual Salary'].mean().diff()"
   ]
  },
  {
   "cell_type": "code",
   "execution_count": null,
   "id": "00667c21",
   "metadata": {},
   "outputs": [],
   "source": []
  },
  {
   "cell_type": "code",
   "execution_count": null,
   "id": "0fa18419",
   "metadata": {},
   "outputs": [],
   "source": [
    "from scipy import stats\n",
    "\n",
    "results = stats.ttest_ind(grp_fire, grp_police)\n",
    "results"
   ]
  },
  {
   "cell_type": "code",
   "execution_count": null,
   "id": "95467641",
   "metadata": {},
   "outputs": [],
   "source": [
    "# g"
   ]
  },
  {
   "cell_type": "markdown",
   "id": "f68240fb",
   "metadata": {},
   "source": [
    "# APPENDIX "
   ]
  },
  {
   "cell_type": "code",
   "execution_count": 1,
   "id": "39c730ff",
   "metadata": {},
   "outputs": [],
   "source": [
    "import pandas as pd\n",
    "import numpy as np\n",
    "\n",
    "import matplotlib as mpl\n",
    "import matplotlib.pyplot as plt\n",
    "import seaborn as sns\n",
    "from scipy import stats\n",
    "\n",
    "# sns.set_context('talk')\n",
    "# mpl.rcParams['figure.figsize'] = [10,4]\n",
    "mpl.rcParams['figure.facecolor'] = 'white'"
   ]
  },
  {
   "cell_type": "markdown",
   "id": "71590b1d",
   "metadata": {},
   "source": [
    "## DF1 - Height/Weight"
   ]
  },
  {
   "cell_type": "code",
   "execution_count": 2,
   "id": "fd675823",
   "metadata": {},
   "outputs": [
    {
     "data": {
      "text/html": [
       "<div>\n",
       "<style scoped>\n",
       "    .dataframe tbody tr th:only-of-type {\n",
       "        vertical-align: middle;\n",
       "    }\n",
       "\n",
       "    .dataframe tbody tr th {\n",
       "        vertical-align: top;\n",
       "    }\n",
       "\n",
       "    .dataframe thead th {\n",
       "        text-align: right;\n",
       "    }\n",
       "</style>\n",
       "<table border=\"1\" class=\"dataframe\">\n",
       "  <thead>\n",
       "    <tr style=\"text-align: right;\">\n",
       "      <th></th>\n",
       "      <th>Gender</th>\n",
       "      <th>Height</th>\n",
       "      <th>Weight</th>\n",
       "    </tr>\n",
       "  </thead>\n",
       "  <tbody>\n",
       "    <tr>\n",
       "      <th>0</th>\n",
       "      <td>Male</td>\n",
       "      <td>73.847017</td>\n",
       "      <td>241.893563</td>\n",
       "    </tr>\n",
       "    <tr>\n",
       "      <th>1</th>\n",
       "      <td>Male</td>\n",
       "      <td>68.781904</td>\n",
       "      <td>162.310473</td>\n",
       "    </tr>\n",
       "    <tr>\n",
       "      <th>2</th>\n",
       "      <td>Male</td>\n",
       "      <td>74.110105</td>\n",
       "      <td>212.740856</td>\n",
       "    </tr>\n",
       "    <tr>\n",
       "      <th>3</th>\n",
       "      <td>Male</td>\n",
       "      <td>71.730978</td>\n",
       "      <td>220.042470</td>\n",
       "    </tr>\n",
       "    <tr>\n",
       "      <th>4</th>\n",
       "      <td>Male</td>\n",
       "      <td>69.881796</td>\n",
       "      <td>206.349801</td>\n",
       "    </tr>\n",
       "    <tr>\n",
       "      <th>...</th>\n",
       "      <td>...</td>\n",
       "      <td>...</td>\n",
       "      <td>...</td>\n",
       "    </tr>\n",
       "    <tr>\n",
       "      <th>9995</th>\n",
       "      <td>Female</td>\n",
       "      <td>66.172652</td>\n",
       "      <td>136.777454</td>\n",
       "    </tr>\n",
       "    <tr>\n",
       "      <th>9996</th>\n",
       "      <td>Female</td>\n",
       "      <td>67.067155</td>\n",
       "      <td>170.867906</td>\n",
       "    </tr>\n",
       "    <tr>\n",
       "      <th>9997</th>\n",
       "      <td>Female</td>\n",
       "      <td>63.867992</td>\n",
       "      <td>128.475319</td>\n",
       "    </tr>\n",
       "    <tr>\n",
       "      <th>9998</th>\n",
       "      <td>Female</td>\n",
       "      <td>69.034243</td>\n",
       "      <td>163.852461</td>\n",
       "    </tr>\n",
       "    <tr>\n",
       "      <th>9999</th>\n",
       "      <td>Female</td>\n",
       "      <td>61.944246</td>\n",
       "      <td>113.649103</td>\n",
       "    </tr>\n",
       "  </tbody>\n",
       "</table>\n",
       "<p>10000 rows × 3 columns</p>\n",
       "</div>"
      ],
      "text/plain": [
       "      Gender     Height      Weight\n",
       "0       Male  73.847017  241.893563\n",
       "1       Male  68.781904  162.310473\n",
       "2       Male  74.110105  212.740856\n",
       "3       Male  71.730978  220.042470\n",
       "4       Male  69.881796  206.349801\n",
       "...      ...        ...         ...\n",
       "9995  Female  66.172652  136.777454\n",
       "9996  Female  67.067155  170.867906\n",
       "9997  Female  63.867992  128.475319\n",
       "9998  Female  69.034243  163.852461\n",
       "9999  Female  61.944246  113.649103\n",
       "\n",
       "[10000 rows x 3 columns]"
      ]
     },
     "execution_count": 2,
     "metadata": {},
     "output_type": "execute_result"
    }
   ],
   "source": [
    "df1 = pd.read_csv(\"Data/weight-height.csv\")\n",
    "df1"
   ]
  },
  {
   "cell_type": "markdown",
   "id": "fc8d82e1",
   "metadata": {},
   "source": [
    "## DF2 - Salaries"
   ]
  },
  {
   "cell_type": "code",
   "execution_count": 43,
   "id": "3fcaa4a0",
   "metadata": {},
   "outputs": [
    {
     "name": "stdout",
     "output_type": "stream",
     "text": [
      "<class 'pandas.core.frame.DataFrame'>\n",
      "Int64Index: 24287 entries, 0 to 31100\n",
      "Data columns (total 8 columns):\n",
      " #   Column             Non-Null Count  Dtype  \n",
      "---  ------             --------------  -----  \n",
      " 0   Name               24287 non-null  object \n",
      " 1   Job Titles         24287 non-null  object \n",
      " 2   Department         24287 non-null  object \n",
      " 3   Full or Part-Time  24287 non-null  object \n",
      " 4   Salary or Hourly   24287 non-null  object \n",
      " 5   Typical Hours      0 non-null      float64\n",
      " 6   Annual Salary      24287 non-null  float64\n",
      " 7   Hourly Rate        0 non-null      float64\n",
      "dtypes: float64(3), object(5)\n",
      "memory usage: 1.7+ MB\n",
      "Name                     0\n",
      "Job Titles               0\n",
      "Department               0\n",
      "Full or Part-Time        0\n",
      "Salary or Hourly         0\n",
      "Typical Hours        24287\n",
      "Annual Salary            0\n",
      "Hourly Rate          24287\n",
      "dtype: int64\n"
     ]
    },
    {
     "data": {
      "text/html": [
       "<div>\n",
       "<style scoped>\n",
       "    .dataframe tbody tr th:only-of-type {\n",
       "        vertical-align: middle;\n",
       "    }\n",
       "\n",
       "    .dataframe tbody tr th {\n",
       "        vertical-align: top;\n",
       "    }\n",
       "\n",
       "    .dataframe thead th {\n",
       "        text-align: right;\n",
       "    }\n",
       "</style>\n",
       "<table border=\"1\" class=\"dataframe\">\n",
       "  <thead>\n",
       "    <tr style=\"text-align: right;\">\n",
       "      <th></th>\n",
       "      <th>Name</th>\n",
       "      <th>Job Titles</th>\n",
       "      <th>Department</th>\n",
       "      <th>Full or Part-Time</th>\n",
       "      <th>Salary or Hourly</th>\n",
       "      <th>Typical Hours</th>\n",
       "      <th>Annual Salary</th>\n",
       "      <th>Hourly Rate</th>\n",
       "    </tr>\n",
       "  </thead>\n",
       "  <tbody>\n",
       "    <tr>\n",
       "      <th>0</th>\n",
       "      <td>AARON,  JEFFERY M</td>\n",
       "      <td>SERGEANT</td>\n",
       "      <td>POLICE</td>\n",
       "      <td>F</td>\n",
       "      <td>Salary</td>\n",
       "      <td>NaN</td>\n",
       "      <td>122568.0</td>\n",
       "      <td>NaN</td>\n",
       "    </tr>\n",
       "    <tr>\n",
       "      <th>1</th>\n",
       "      <td>AARON,  KARINA</td>\n",
       "      <td>POLICE OFFICER (ASSIGNED AS DETECTIVE)</td>\n",
       "      <td>POLICE</td>\n",
       "      <td>F</td>\n",
       "      <td>Salary</td>\n",
       "      <td>NaN</td>\n",
       "      <td>110796.0</td>\n",
       "      <td>NaN</td>\n",
       "    </tr>\n",
       "    <tr>\n",
       "      <th>2</th>\n",
       "      <td>ABAD JR,  VICENTE M</td>\n",
       "      <td>CIVIL ENGINEER IV</td>\n",
       "      <td>WATER MGMNT</td>\n",
       "      <td>F</td>\n",
       "      <td>Salary</td>\n",
       "      <td>NaN</td>\n",
       "      <td>122112.0</td>\n",
       "      <td>NaN</td>\n",
       "    </tr>\n",
       "    <tr>\n",
       "      <th>4</th>\n",
       "      <td>ABARCA,  FRANCES J</td>\n",
       "      <td>POLICE OFFICER</td>\n",
       "      <td>POLICE</td>\n",
       "      <td>F</td>\n",
       "      <td>Salary</td>\n",
       "      <td>NaN</td>\n",
       "      <td>86730.0</td>\n",
       "      <td>NaN</td>\n",
       "    </tr>\n",
       "    <tr>\n",
       "      <th>6</th>\n",
       "      <td>ABBATEMARCO,  JAMES J</td>\n",
       "      <td>FIRE ENGINEER-EMT</td>\n",
       "      <td>FIRE</td>\n",
       "      <td>F</td>\n",
       "      <td>Salary</td>\n",
       "      <td>NaN</td>\n",
       "      <td>118830.0</td>\n",
       "      <td>NaN</td>\n",
       "    </tr>\n",
       "    <tr>\n",
       "      <th>...</th>\n",
       "      <td>...</td>\n",
       "      <td>...</td>\n",
       "      <td>...</td>\n",
       "      <td>...</td>\n",
       "      <td>...</td>\n",
       "      <td>...</td>\n",
       "      <td>...</td>\n",
       "      <td>...</td>\n",
       "    </tr>\n",
       "    <tr>\n",
       "      <th>31096</th>\n",
       "      <td>ZYLINSKA,  KLAUDIA</td>\n",
       "      <td>POLICE OFFICER</td>\n",
       "      <td>POLICE</td>\n",
       "      <td>F</td>\n",
       "      <td>Salary</td>\n",
       "      <td>NaN</td>\n",
       "      <td>90990.0</td>\n",
       "      <td>NaN</td>\n",
       "    </tr>\n",
       "    <tr>\n",
       "      <th>31097</th>\n",
       "      <td>ZYMANTAS,  LAURA C</td>\n",
       "      <td>POLICE OFFICER</td>\n",
       "      <td>POLICE</td>\n",
       "      <td>F</td>\n",
       "      <td>Salary</td>\n",
       "      <td>NaN</td>\n",
       "      <td>95586.0</td>\n",
       "      <td>NaN</td>\n",
       "    </tr>\n",
       "    <tr>\n",
       "      <th>31098</th>\n",
       "      <td>ZYMANTAS,  MARK E</td>\n",
       "      <td>POLICE OFFICER</td>\n",
       "      <td>POLICE</td>\n",
       "      <td>F</td>\n",
       "      <td>Salary</td>\n",
       "      <td>NaN</td>\n",
       "      <td>102372.0</td>\n",
       "      <td>NaN</td>\n",
       "    </tr>\n",
       "    <tr>\n",
       "      <th>31099</th>\n",
       "      <td>ZYRKOWSKI,  CARLO E</td>\n",
       "      <td>POLICE OFFICER</td>\n",
       "      <td>POLICE</td>\n",
       "      <td>F</td>\n",
       "      <td>Salary</td>\n",
       "      <td>NaN</td>\n",
       "      <td>109236.0</td>\n",
       "      <td>NaN</td>\n",
       "    </tr>\n",
       "    <tr>\n",
       "      <th>31100</th>\n",
       "      <td>ZYSKOWSKI,  DARIUSZ</td>\n",
       "      <td>CHIEF DATA BASE ANALYST</td>\n",
       "      <td>DAIS</td>\n",
       "      <td>F</td>\n",
       "      <td>Salary</td>\n",
       "      <td>NaN</td>\n",
       "      <td>142176.0</td>\n",
       "      <td>NaN</td>\n",
       "    </tr>\n",
       "  </tbody>\n",
       "</table>\n",
       "<p>24287 rows × 8 columns</p>\n",
       "</div>"
      ],
      "text/plain": [
       "                        Name                              Job Titles  \\\n",
       "0          AARON,  JEFFERY M                                SERGEANT   \n",
       "1             AARON,  KARINA  POLICE OFFICER (ASSIGNED AS DETECTIVE)   \n",
       "2        ABAD JR,  VICENTE M                       CIVIL ENGINEER IV   \n",
       "4         ABARCA,  FRANCES J                          POLICE OFFICER   \n",
       "6      ABBATEMARCO,  JAMES J                       FIRE ENGINEER-EMT   \n",
       "...                      ...                                     ...   \n",
       "31096     ZYLINSKA,  KLAUDIA                          POLICE OFFICER   \n",
       "31097     ZYMANTAS,  LAURA C                          POLICE OFFICER   \n",
       "31098      ZYMANTAS,  MARK E                          POLICE OFFICER   \n",
       "31099    ZYRKOWSKI,  CARLO E                          POLICE OFFICER   \n",
       "31100    ZYSKOWSKI,  DARIUSZ                 CHIEF DATA BASE ANALYST   \n",
       "\n",
       "        Department Full or Part-Time Salary or Hourly  Typical Hours  \\\n",
       "0           POLICE                 F           Salary            NaN   \n",
       "1           POLICE                 F           Salary            NaN   \n",
       "2      WATER MGMNT                 F           Salary            NaN   \n",
       "4           POLICE                 F           Salary            NaN   \n",
       "6             FIRE                 F           Salary            NaN   \n",
       "...            ...               ...              ...            ...   \n",
       "31096       POLICE                 F           Salary            NaN   \n",
       "31097       POLICE                 F           Salary            NaN   \n",
       "31098       POLICE                 F           Salary            NaN   \n",
       "31099       POLICE                 F           Salary            NaN   \n",
       "31100         DAIS                 F           Salary            NaN   \n",
       "\n",
       "       Annual Salary  Hourly Rate  \n",
       "0           122568.0          NaN  \n",
       "1           110796.0          NaN  \n",
       "2           122112.0          NaN  \n",
       "4            86730.0          NaN  \n",
       "6           118830.0          NaN  \n",
       "...              ...          ...  \n",
       "31096        90990.0          NaN  \n",
       "31097        95586.0          NaN  \n",
       "31098       102372.0          NaN  \n",
       "31099       109236.0          NaN  \n",
       "31100       142176.0          NaN  \n",
       "\n",
       "[24287 rows x 8 columns]"
      ]
     },
     "execution_count": 43,
     "metadata": {},
     "output_type": "execute_result"
    }
   ],
   "source": [
    "## load data as df\n",
    "df2 = pd.read_csv('salary.csv')\n",
    "df2 = df2.dropna(subset=['Annual Salary'])\n",
    "\n",
    "# saving backup for later \n",
    "df2_orig = df2.copy()\n",
    "# df = df.sample(n=10000,random_state=321)\n",
    "df2.info()\n",
    "print(df2.isna().sum())\n",
    "df2"
   ]
  },
  {
   "cell_type": "code",
   "execution_count": 44,
   "id": "cc90d454",
   "metadata": {},
   "outputs": [
    {
     "data": {
      "text/plain": [
       "POLICE    12528\n",
       "FIRE       4801\n",
       "Name: Department, dtype: int64"
      ]
     },
     "execution_count": 44,
     "metadata": {},
     "output_type": "execute_result"
    }
   ],
   "source": [
    "# keep only police and fire\n",
    "df2 = df2[ df2['Department'].isin(['POLICE','FIRE'])]\n",
    "df2['Department'].value_counts()"
   ]
  },
  {
   "cell_type": "code",
   "execution_count": 47,
   "id": "07b0241d",
   "metadata": {},
   "outputs": [],
   "source": [
    "# sns.countplot(data=df2, x='Department');"
   ]
  },
  {
   "cell_type": "code",
   "execution_count": 49,
   "id": "0a7fb99e",
   "metadata": {},
   "outputs": [],
   "source": [
    "\n",
    "\n",
    "from matplotlib.ticker import FuncFormatter\n",
    "\n",
    "def format_salary_Ks(x,pos):\n",
    "    x_out = x / 1000\n",
    "    return f\"${x_out:,.0f}K\"\n",
    "\n",
    "\n",
    "fmt_thous = FuncFormatter(format_salary_Ks)"
   ]
  },
  {
   "cell_type": "markdown",
   "id": "6fa5232d",
   "metadata": {},
   "source": [
    "### EDA for Lesson"
   ]
  },
  {
   "cell_type": "code",
   "execution_count": 51,
   "id": "4d8f69ec",
   "metadata": {},
   "outputs": [
    {
     "data": {
      "image/png": "[encoded data removed]",
      "text/plain": [
       "<Figure size 432x288 with 1 Axes>"
      ]
     },
     "metadata": {
      "needs_background": "light"
     },
     "output_type": "display_data"
    }
   ],
   "source": [
    "# overall distribtuions \n",
    "ax = sns.histplot(data=df2,x='Annual Salary',stat='count',bins=30)\n",
    "ax.xaxis.set_major_formatter(fmt_thous)"
   ]
  },
  {
   "cell_type": "markdown",
   "id": "a2f41ba0",
   "metadata": {},
   "source": [
    "- Removing outliers for visualizations"
   ]
  },
  {
   "cell_type": "code",
   "execution_count": 20,
   "id": "c1e361e8",
   "metadata": {},
   "outputs": [
    {
     "data": {
      "text/plain": [
       "0        False\n",
       "1        False\n",
       "4        False\n",
       "6        False\n",
       "7        False\n",
       "         ...  \n",
       "31095    False\n",
       "31096    False\n",
       "31097    False\n",
       "31098    False\n",
       "31099    False\n",
       "Name: Annual Salary, Length: 17329, dtype: bool"
      ]
     },
     "execution_count": 20,
     "metadata": {},
     "output_type": "execute_result"
    }
   ],
   "source": [
    "outliers = np.abs(stats.zscore(df2['Annual Salary']))>3\n",
    "outliers"
   ]
  },
  {
   "cell_type": "code",
   "execution_count": 28,
   "id": "e4f14409",
   "metadata": {},
   "outputs": [
    {
     "name": "stdout",
     "output_type": "stream",
     "text": [
      "- 1862 outliers found in Annual Salary using IQR.\n"
     ]
    }
   ],
   "source": [
    "# def find_outliers_Z(data, verbose=True):\n",
    "#     outliers = np.abs(stats.zscore(data))>3\n",
    "    \n",
    "#     if verbose:\n",
    "#         print(f\"- {outliers.sum()} outliers found in {data.name} using Z-Scores.\")\n",
    "#     return outliers\n",
    "\n",
    "\n",
    "def find_outliers_IQR(data, verbose=True):\n",
    "    q3 = np.quantile(data,.75)\n",
    "    q1 = np.quantile(data,.25)\n",
    "\n",
    "    IQR = q3 - q1\n",
    "    upper_threshold = q3 + 1.5*IQR\n",
    "    lower_threshold = q1 - 1.5*IQR\n",
    "    \n",
    "    outliers = (data<lower_threshold) | (data>upper_threshold)\n",
    "    if verbose:\n",
    "        print(f\"- {outliers.sum()} outliers found in {data.name} using IQR.\")\n",
    "        \n",
    "    return outliers\n",
    "\n",
    "outliers = find_outliers_IQR(df2['Annual Salary'])"
   ]
  },
  {
   "cell_type": "code",
   "execution_count": 37,
   "id": "561fae2f",
   "metadata": {},
   "outputs": [
    {
     "data": {
      "image/png": "[encoded data removed]",
      "text/plain": [
       "<Figure size 432x288 with 1 Axes>"
      ]
     },
     "metadata": {
      "needs_background": "light"
     },
     "output_type": "display_data"
    }
   ],
   "source": [
    "# overall distribtuions \n",
    "ax = sns.histplot(data=df2[~outliers],x='Annual Salary',stat='count',bins=10)"
   ]
  },
  {
   "cell_type": "code",
   "execution_count": 69,
   "id": "0da6e0b0",
   "metadata": {},
   "outputs": [
    {
     "data": {
      "image/png": "[encoded data removed]",
      "text/plain": [
       "<Figure size 576x288 with 1 Axes>"
      ]
     },
     "metadata": {},
     "output_type": "display_data"
    }
   ],
   "source": [
    "with plt.style.context(['fivethirtyeight','seaborn-talk', 'tableau-colorblind10']):\n",
    "    \n",
    "#     outliers = find_outliers_IQR(df2_orig['Annual Salary'])\n",
    "    outliers = np.zeros_like(df2_orig['Annual Salary']).astype(bool)\n",
    "    \n",
    "    \n",
    "    fig, ax = plt.subplots(figsize=(8,4))\n",
    "    ax = sns.histplot(data=df2_orig[~outliers],x='Annual Salary',stat='count',bins=100,ax=ax)\n",
    "    ax.xaxis.set_major_formatter(fmt_thous)\n",
    "    ax.set_title('Average Salary')\n",
    "    ax.set_xlim(right=200_000)"
   ]
  },
  {
   "cell_type": "code",
   "execution_count": 73,
   "id": "301577c5",
   "metadata": {},
   "outputs": [
    {
     "data": {
      "text/plain": [
       "98750.83894099724"
      ]
     },
     "execution_count": 73,
     "metadata": {},
     "output_type": "execute_result"
    }
   ],
   "source": [
    "df2_orig['Annual Salary'].mean()"
   ]
  },
  {
   "cell_type": "code",
   "execution_count": 94,
   "id": "ea2adb0d",
   "metadata": {},
   "outputs": [
    {
     "data": {
      "image/png": "[encoded data removed]",
      "text/plain": [
       "<Figure size 576x288 with 1 Axes>"
      ]
     },
     "metadata": {},
     "output_type": "display_data"
    }
   ],
   "source": [
    "## calculate x values that span the data min - pad_x to data max+pad_x\n",
    "temp_data = df2_orig.loc[ df2_orig['Annual Salary']< 200_000,'Annual Salary']\n",
    "xs = x= np.linspace(0,200_000)\n",
    "\n",
    "\n",
    "pdf = stats.norm.pdf(xs,loc=temp_data.mean(),\n",
    "                      scale=temp_data.std())\n",
    "\n",
    "with plt.style.context(['fivethirtyeight','seaborn-talk', 'tableau-colorblind10']):\n",
    "    fig, ax = plt.subplots(figsize=(8,4))\n",
    "    \n",
    "    ax.plot(xs,pdf)\n",
    "    ax.xaxis.set_major_formatter(fmt_thous)\n",
    "    ax.set_title('Probability Distribution - Based on Average Salary')\n",
    "    ax.set_xlim(left=20_000,right=200_000)\n",
    "    ax.set(ylabel='Probability (Density)', xlabel='Salary')"
   ]
  },
  {
   "cell_type": "code",
   "execution_count": 71,
   "id": "fa00e3ee",
   "metadata": {},
   "outputs": [],
   "source": [
    "# stats.normaltest(df2_orig.loc[~outliers, 'Annual Salary'])"
   ]
  },
  {
   "cell_type": "code",
   "execution_count": null,
   "id": "cb04909d",
   "metadata": {},
   "outputs": [],
   "source": []
  },
  {
   "cell_type": "markdown",
   "id": "1aec3f2e",
   "metadata": {},
   "source": [
    "### Test df"
   ]
  },
  {
   "cell_type": "code",
   "execution_count": 17,
   "id": "0add0796",
   "metadata": {},
   "outputs": [
    {
     "name": "stdout",
     "output_type": "stream",
     "text": [
      "<class 'pandas.core.frame.DataFrame'>\n",
      "Int64Index: 734 entries, 0 to 733\n",
      "Data columns (total 10 columns):\n",
      " #   Column      Non-Null Count  Dtype  \n",
      "---  ------      --------------  -----  \n",
      " 0   name        734 non-null    object \n",
      " 1   Gender      705 non-null    object \n",
      " 2   Eye color   562 non-null    object \n",
      " 3   Race        430 non-null    object \n",
      " 4   Hair color  562 non-null    object \n",
      " 5   Height      517 non-null    float64\n",
      " 6   Publisher   719 non-null    object \n",
      " 7   Skin color  72 non-null     object \n",
      " 8   Alignment   727 non-null    object \n",
      " 9   Weight      495 non-null    float64\n",
      "dtypes: float64(2), object(8)\n",
      "memory usage: 63.1+ KB\n"
     ]
    },
    {
     "data": {
      "text/html": [
       "<div>\n",
       "<style scoped>\n",
       "    .dataframe tbody tr th:only-of-type {\n",
       "        vertical-align: middle;\n",
       "    }\n",
       "\n",
       "    .dataframe tbody tr th {\n",
       "        vertical-align: top;\n",
       "    }\n",
       "\n",
       "    .dataframe thead th {\n",
       "        text-align: right;\n",
       "    }\n",
       "</style>\n",
       "<table border=\"1\" class=\"dataframe\">\n",
       "  <thead>\n",
       "    <tr style=\"text-align: right;\">\n",
       "      <th></th>\n",
       "      <th>name</th>\n",
       "      <th>Gender</th>\n",
       "      <th>Eye color</th>\n",
       "      <th>Race</th>\n",
       "      <th>Hair color</th>\n",
       "      <th>Height</th>\n",
       "      <th>Publisher</th>\n",
       "      <th>Skin color</th>\n",
       "      <th>Alignment</th>\n",
       "      <th>Weight</th>\n",
       "    </tr>\n",
       "  </thead>\n",
       "  <tbody>\n",
       "    <tr>\n",
       "      <th>0</th>\n",
       "      <td>A-Bomb</td>\n",
       "      <td>Male</td>\n",
       "      <td>yellow</td>\n",
       "      <td>Human</td>\n",
       "      <td>No Hair</td>\n",
       "      <td>203.0</td>\n",
       "      <td>Marvel Comics</td>\n",
       "      <td>NaN</td>\n",
       "      <td>good</td>\n",
       "      <td>441.0</td>\n",
       "    </tr>\n",
       "    <tr>\n",
       "      <th>1</th>\n",
       "      <td>Abe Sapien</td>\n",
       "      <td>Male</td>\n",
       "      <td>blue</td>\n",
       "      <td>Icthyo Sapien</td>\n",
       "      <td>No Hair</td>\n",
       "      <td>191.0</td>\n",
       "      <td>Dark Horse Comics</td>\n",
       "      <td>blue</td>\n",
       "      <td>good</td>\n",
       "      <td>65.0</td>\n",
       "    </tr>\n",
       "  </tbody>\n",
       "</table>\n",
       "</div>"
      ],
      "text/plain": [
       "         name Gender Eye color           Race Hair color  Height  \\\n",
       "0      A-Bomb   Male    yellow          Human    No Hair   203.0   \n",
       "1  Abe Sapien   Male      blue  Icthyo Sapien    No Hair   191.0   \n",
       "\n",
       "           Publisher Skin color Alignment  Weight  \n",
       "0      Marvel Comics        NaN      good   441.0  \n",
       "1  Dark Horse Comics       blue      good    65.0  "
      ]
     },
     "execution_count": 17,
     "metadata": {},
     "output_type": "execute_result"
    }
   ],
   "source": [
    "heroes = pd.read_csv(\"https://docs.google.com/spreadsheets/d/e/2PACX-1vSfpo_ajaImuSJFMrLLVtZhUSzJusEVXGzPxyIixTQydVouT1RMuOZHI-ej3pTHOMPYQRWJM1j2wN8P/pub?output=csv\",\n",
    "                    index_col=0,\n",
    "                    na_values=['-',-99])\n",
    "heroes.info()\n",
    "heroes.head(2)"
   ]
  },
  {
   "cell_type": "code",
   "execution_count": 19,
   "id": "f90d59b9",
   "metadata": {},
   "outputs": [
    {
     "data": {
      "image/png": "[encoded data removed]",
      "text/plain": [
       "<Figure size 432x288 with 2 Axes>"
      ]
     },
     "metadata": {
      "needs_background": "light"
     },
     "output_type": "display_data"
    }
   ],
   "source": [
    "heroes.hist(bins='auto');"
   ]
  },
  {
   "cell_type": "markdown",
   "id": "ed17f6ad",
   "metadata": {},
   "source": [
    "### Stats and Dist.  Functions"
   ]
  },
  {
   "cell_type": "code",
   "execution_count": null,
   "id": "1e05a3f2",
   "metadata": {},
   "outputs": [],
   "source": [
    "def get_group_stats(sample, group, measure=\"Height\", group_col=\"Gender\", \n",
    "                    pad_x=2, include_data=True):\n",
    "    ## Slice out group data\n",
    "    temp_data = sample.loc[ sample[group_col]==group, [measure]]\n",
    "    \n",
    "    ## calculate x values that span the data min - pad_x to data max+pad_x\n",
    "    xs = x= np.linspace(temp_data.min()-pad_x, temp_data.max()+pad_x)\n",
    "    \n",
    "    ## Save initial data to dict (group name, group col)\n",
    "    group_data = {'group_col':group_col, 'group_name':group,\n",
    "                  'measure_col':measure,\n",
    "                  'mean': np.mean(temp_data.values),\n",
    "                  'std':np.std(temp_data.values)}\n",
    "    \n",
    "    pdf = stats.norm.pdf(xs,loc=group_data[\"mean\"], \n",
    "                          scale=group_data[\"std\"])\n",
    "    \n",
    "    cdf = stats.norm.cdf(xs, loc=group_data[\"mean\"], \n",
    "                          scale=group_data[\"std\"])\n",
    "    group_data['xs'] = xs.flatten()\n",
    "    group_data['pdf'] = pdf.flatten()\n",
    "    group_data['cdf'] = cdf.flatten()\n",
    "    \n",
    "    if include_data:\n",
    "        group_data['data'] = temp_data.values.flatten()\n",
    "    return group_data\n",
    "\n",
    "\n"
   ]
  },
  {
   "cell_type": "code",
   "execution_count": null,
   "id": "3ce309e0",
   "metadata": {},
   "outputs": [],
   "source": [
    "from scipy import stats\n",
    "\n",
    "\n",
    "\n",
    "\n",
    "def plot_data_vs_normal_dist(scaled_data, return_data=False, figsize=(10,6)):\n",
    "\n",
    "    ## Generate 1000 x values between min and max\n",
    "    x = np.linspace(scaled_data.min(),(scaled_data.max()),num=1000)\n",
    "\n",
    "    ## get the pdf values for the x we created\n",
    "    pdf = stats.norm.pdf(x,loc=scaled_data.mean(),\n",
    "                         scale=scaled_data.std())\n",
    "\n",
    "    ## Return Data \n",
    "    if return_data:\n",
    "        return x, pdf\n",
    "\n",
    "    # OR visualize\n",
    "    else:\n",
    "        \n",
    "        fig,ax = plt.subplots(figsize=figsize)\n",
    "        ## Plot histpgram\n",
    "        sns.histplot(scaled_data,stat='density',fill=False,kde=True,\n",
    "                        line_kws={'lw':'4'},ax=ax);\n",
    "        # Plot calculated pdf\n",
    "        ax.plot(x,pdf,color='red',ls='--',lw=3,label='Normal Dist. PDF')\n",
    "\n",
    "        ## Annotate\n",
    "        ax.legend(['KDE','Normal Distrbution PDF'],#bbox_to_anchor=[1,1],\n",
    "                  prop={'size':'medium'})\n",
    "        ax.set_title(\"Comparing Our Data's KDE \\nvs. Perfect Normal Distribution\",y=1.02);\n",
    "        # fig.tight_layout()\n",
    "\n",
    "    \n",
    "        return fig, ax\n",
    "    "
   ]
  },
  {
   "cell_type": "code",
   "execution_count": null,
   "id": "bc7038d3",
   "metadata": {},
   "outputs": [],
   "source": [
    "plot_data_vs_normal_dist(grp_fire)"
   ]
  },
  {
   "cell_type": "code",
   "execution_count": null,
   "id": "1e297507",
   "metadata": {},
   "outputs": [],
   "source": [
    "plot_data_vs_normal_dist(grp_police)"
   ]
  },
  {
   "cell_type": "code",
   "execution_count": null,
   "id": "d31de118",
   "metadata": {},
   "outputs": [],
   "source": [
    "df"
   ]
  },
  {
   "cell_type": "code",
   "execution_count": null,
   "id": "1590509a",
   "metadata": {},
   "outputs": [],
   "source": [
    "scaled_data = stats.zscore(males['Weight'])\n",
    "fig, ax = plot_data_vs_normal_dist(scaled_data);\n",
    "x,pdf = plot_data_vs_normal_dist(scaled_data,return_data=True)"
   ]
  },
  {
   "cell_type": "code",
   "execution_count": null,
   "id": "fccc7961",
   "metadata": {},
   "outputs": [],
   "source": []
  }
 ],
 "metadata": {
  "kernelspec": {
   "display_name": "Python (dojo-env)",
   "language": "python",
   "name": "dojo-env"
  },
  "language_info": {
   "codemirror_mode": {
    "name": "ipython",
    "version": 3
   },
   "file_extension": ".py",
   "mimetype": "text/x-python",
   "name": "python",
   "nbconvert_exporter": "python",
   "pygments_lexer": "ipython3",
   "version": "3.8.13"
  },
  "toc": {
   "base_numbering": 1,
   "nav_menu": {},
   "number_sections": false,
   "sideBar": true,
   "skip_h1_title": false,
   "title_cell": "Table of Contents",
   "title_sidebar": "Contents",
   "toc_cell": false,
   "toc_position": {
    "height": "calc(100% - 180px)",
    "left": "10px",
    "top": "150px",
    "width": "271.996px"
   },
   "toc_section_display": true,
   "toc_window_display": true
  }
 },
 "nbformat": 4,
 "nbformat_minor": 5
}
