{
 "cells": [
  {
   "cell_type": "markdown",
   "id": "819768dd",
   "metadata": {},
   "source": [
    "# Distributions"
   ]
  },
  {
   "cell_type": "code",
   "execution_count": 1,
   "id": "e4b02c30",
   "metadata": {
    "ExecuteTime": {
     "end_time": "2022-06-02T23:50:10.771876Z",
     "start_time": "2022-06-02T23:50:10.032439Z"
    }
   },
   "outputs": [],
   "source": [
    "import pandas as pd\n",
    "import numpy as np\n",
    "import matplotlib.pyplot as plt\n",
    "import seaborn as sns\n",
    "from scipy import stats\n",
    "\n",
    "sns.set_context('talk')\n",
    "plt.rcParams['figure.figsize'] = [10,6]"
   ]
  },
  {
   "cell_type": "code",
   "execution_count": 2,
   "id": "9ae80ced",
   "metadata": {
    "ExecuteTime": {
     "end_time": "2022-06-02T23:50:10.774869Z",
     "start_time": "2022-06-02T23:50:10.773128Z"
    }
   },
   "outputs": [],
   "source": [
    "# !pip install kaggle"
   ]
  },
  {
   "cell_type": "code",
   "execution_count": 3,
   "id": "584e0cc6",
   "metadata": {
    "ExecuteTime": {
     "end_time": "2022-06-02T23:50:11.721089Z",
     "start_time": "2022-06-02T23:50:10.775674Z"
    }
   },
   "outputs": [
    {
     "name": "stdout",
     "output_type": "stream",
     "text": [
      "employees-annual-salary-in-chicago.zip: Skipping, found more recently modified local copy (use --force to force download)\n",
      "\u001b[34m.\u001b[m\u001b[m                                      LICENSE\n",
      "\u001b[34m..\u001b[m\u001b[m                                     README.md\n",
      "\u001b[34m.git\u001b[m\u001b[m                                   Wk 15 Lect 01 -  Distributions.ipynb\n",
      ".gitattributes                         employees-annual-salary-in-chicago.zip\n",
      ".gitignore                             salary.csv\n",
      "\u001b[34m.ipynb_checkpoints\u001b[m\u001b[m\n"
     ]
    }
   ],
   "source": [
    "## download kaggle dataset using kaggle api\n",
    "# employee annual salary: https://www.kaggle.com/datasets/dsfelix/employees-annual-salary-in-chicago\n",
    "!kaggle datasets download -d dsfelix/employees-annual-salary-in-chicago\n",
    "!ls -a"
   ]
  },
  {
   "cell_type": "code",
   "execution_count": 4,
   "id": "cfa18401",
   "metadata": {},
   "outputs": [],
   "source": [
    "# input('testing')"
   ]
  },
  {
   "cell_type": "code",
   "execution_count": 5,
   "id": "6e04a8dd",
   "metadata": {
    "ExecuteTime": {
     "end_time": "2022-06-02T23:51:09.629422Z",
     "start_time": "2022-06-02T23:50:11.734348Z"
    }
   },
   "outputs": [
    {
     "name": "stdout",
     "output_type": "stream",
     "text": [
      "Archive:  employees-annual-salary-in-chicago.zip\n",
      "replace salary.csv? [y]es, [n]o, [A]ll, [N]one, [r]ename: ^C\n"
     ]
    }
   ],
   "source": [
    "## unzip the downloaded dataset\n",
    "!unzip employees-annual-salary-in-chicago.zip"
   ]
  },
  {
   "cell_type": "code",
   "execution_count": 6,
   "id": "b4553aea",
   "metadata": {
    "ExecuteTime": {
     "end_time": "2022-06-02T23:51:09.715312Z",
     "start_time": "2022-06-02T23:51:09.635997Z"
    }
   },
   "outputs": [
    {
     "name": "stdout",
     "output_type": "stream",
     "text": [
      "<class 'pandas.core.frame.DataFrame'>\n",
      "RangeIndex: 31101 entries, 0 to 31100\n",
      "Data columns (total 8 columns):\n",
      " #   Column             Non-Null Count  Dtype  \n",
      "---  ------             --------------  -----  \n",
      " 0   Name               31101 non-null  object \n",
      " 1   Job Titles         31101 non-null  object \n",
      " 2   Department         31101 non-null  object \n",
      " 3   Full or Part-Time  31101 non-null  object \n",
      " 4   Salary or Hourly   31101 non-null  object \n",
      " 5   Typical Hours      6814 non-null   float64\n",
      " 6   Annual Salary      24287 non-null  float64\n",
      " 7   Hourly Rate        6814 non-null   float64\n",
      "dtypes: float64(3), object(5)\n",
      "memory usage: 1.9+ MB\n"
     ]
    },
    {
     "data": {
      "text/html": [
       "<div>\n",
       "<style scoped>\n",
       "    .dataframe tbody tr th:only-of-type {\n",
       "        vertical-align: middle;\n",
       "    }\n",
       "\n",
       "    .dataframe tbody tr th {\n",
       "        vertical-align: top;\n",
       "    }\n",
       "\n",
       "    .dataframe thead th {\n",
       "        text-align: right;\n",
       "    }\n",
       "</style>\n",
       "<table border=\"1\" class=\"dataframe\">\n",
       "  <thead>\n",
       "    <tr style=\"text-align: right;\">\n",
       "      <th></th>\n",
       "      <th>Name</th>\n",
       "      <th>Job Titles</th>\n",
       "      <th>Department</th>\n",
       "      <th>Full or Part-Time</th>\n",
       "      <th>Salary or Hourly</th>\n",
       "      <th>Typical Hours</th>\n",
       "      <th>Annual Salary</th>\n",
       "      <th>Hourly Rate</th>\n",
       "    </tr>\n",
       "  </thead>\n",
       "  <tbody>\n",
       "    <tr>\n",
       "      <th>0</th>\n",
       "      <td>AARON,  JEFFERY M</td>\n",
       "      <td>SERGEANT</td>\n",
       "      <td>POLICE</td>\n",
       "      <td>F</td>\n",
       "      <td>Salary</td>\n",
       "      <td>NaN</td>\n",
       "      <td>122568.0</td>\n",
       "      <td>NaN</td>\n",
       "    </tr>\n",
       "    <tr>\n",
       "      <th>1</th>\n",
       "      <td>AARON,  KARINA</td>\n",
       "      <td>POLICE OFFICER (ASSIGNED AS DETECTIVE)</td>\n",
       "      <td>POLICE</td>\n",
       "      <td>F</td>\n",
       "      <td>Salary</td>\n",
       "      <td>NaN</td>\n",
       "      <td>110796.0</td>\n",
       "      <td>NaN</td>\n",
       "    </tr>\n",
       "    <tr>\n",
       "      <th>2</th>\n",
       "      <td>ABAD JR,  VICENTE M</td>\n",
       "      <td>CIVIL ENGINEER IV</td>\n",
       "      <td>WATER MGMNT</td>\n",
       "      <td>F</td>\n",
       "      <td>Salary</td>\n",
       "      <td>NaN</td>\n",
       "      <td>122112.0</td>\n",
       "      <td>NaN</td>\n",
       "    </tr>\n",
       "    <tr>\n",
       "      <th>3</th>\n",
       "      <td>ABARCA,  EMMANUEL</td>\n",
       "      <td>CONCRETE LABORER</td>\n",
       "      <td>TRANSPORTN</td>\n",
       "      <td>F</td>\n",
       "      <td>Hourly</td>\n",
       "      <td>40.0</td>\n",
       "      <td>NaN</td>\n",
       "      <td>45.9</td>\n",
       "    </tr>\n",
       "    <tr>\n",
       "      <th>4</th>\n",
       "      <td>ABARCA,  FRANCES J</td>\n",
       "      <td>POLICE OFFICER</td>\n",
       "      <td>POLICE</td>\n",
       "      <td>F</td>\n",
       "      <td>Salary</td>\n",
       "      <td>NaN</td>\n",
       "      <td>86730.0</td>\n",
       "      <td>NaN</td>\n",
       "    </tr>\n",
       "    <tr>\n",
       "      <th>...</th>\n",
       "      <td>...</td>\n",
       "      <td>...</td>\n",
       "      <td>...</td>\n",
       "      <td>...</td>\n",
       "      <td>...</td>\n",
       "      <td>...</td>\n",
       "      <td>...</td>\n",
       "      <td>...</td>\n",
       "    </tr>\n",
       "    <tr>\n",
       "      <th>31096</th>\n",
       "      <td>ZYLINSKA,  KLAUDIA</td>\n",
       "      <td>POLICE OFFICER</td>\n",
       "      <td>POLICE</td>\n",
       "      <td>F</td>\n",
       "      <td>Salary</td>\n",
       "      <td>NaN</td>\n",
       "      <td>90990.0</td>\n",
       "      <td>NaN</td>\n",
       "    </tr>\n",
       "    <tr>\n",
       "      <th>31097</th>\n",
       "      <td>ZYMANTAS,  LAURA C</td>\n",
       "      <td>POLICE OFFICER</td>\n",
       "      <td>POLICE</td>\n",
       "      <td>F</td>\n",
       "      <td>Salary</td>\n",
       "      <td>NaN</td>\n",
       "      <td>95586.0</td>\n",
       "      <td>NaN</td>\n",
       "    </tr>\n",
       "    <tr>\n",
       "      <th>31098</th>\n",
       "      <td>ZYMANTAS,  MARK E</td>\n",
       "      <td>POLICE OFFICER</td>\n",
       "      <td>POLICE</td>\n",
       "      <td>F</td>\n",
       "      <td>Salary</td>\n",
       "      <td>NaN</td>\n",
       "      <td>102372.0</td>\n",
       "      <td>NaN</td>\n",
       "    </tr>\n",
       "    <tr>\n",
       "      <th>31099</th>\n",
       "      <td>ZYRKOWSKI,  CARLO E</td>\n",
       "      <td>POLICE OFFICER</td>\n",
       "      <td>POLICE</td>\n",
       "      <td>F</td>\n",
       "      <td>Salary</td>\n",
       "      <td>NaN</td>\n",
       "      <td>109236.0</td>\n",
       "      <td>NaN</td>\n",
       "    </tr>\n",
       "    <tr>\n",
       "      <th>31100</th>\n",
       "      <td>ZYSKOWSKI,  DARIUSZ</td>\n",
       "      <td>CHIEF DATA BASE ANALYST</td>\n",
       "      <td>DAIS</td>\n",
       "      <td>F</td>\n",
       "      <td>Salary</td>\n",
       "      <td>NaN</td>\n",
       "      <td>142176.0</td>\n",
       "      <td>NaN</td>\n",
       "    </tr>\n",
       "  </tbody>\n",
       "</table>\n",
       "<p>31101 rows × 8 columns</p>\n",
       "</div>"
      ],
      "text/plain": [
       "                      Name                              Job Titles  \\\n",
       "0        AARON,  JEFFERY M                                SERGEANT   \n",
       "1           AARON,  KARINA  POLICE OFFICER (ASSIGNED AS DETECTIVE)   \n",
       "2      ABAD JR,  VICENTE M                       CIVIL ENGINEER IV   \n",
       "3        ABARCA,  EMMANUEL                        CONCRETE LABORER   \n",
       "4       ABARCA,  FRANCES J                          POLICE OFFICER   \n",
       "...                    ...                                     ...   \n",
       "31096   ZYLINSKA,  KLAUDIA                          POLICE OFFICER   \n",
       "31097   ZYMANTAS,  LAURA C                          POLICE OFFICER   \n",
       "31098    ZYMANTAS,  MARK E                          POLICE OFFICER   \n",
       "31099  ZYRKOWSKI,  CARLO E                          POLICE OFFICER   \n",
       "31100  ZYSKOWSKI,  DARIUSZ                 CHIEF DATA BASE ANALYST   \n",
       "\n",
       "        Department Full or Part-Time Salary or Hourly  Typical Hours  \\\n",
       "0           POLICE                 F           Salary            NaN   \n",
       "1           POLICE                 F           Salary            NaN   \n",
       "2      WATER MGMNT                 F           Salary            NaN   \n",
       "3       TRANSPORTN                 F           Hourly           40.0   \n",
       "4           POLICE                 F           Salary            NaN   \n",
       "...            ...               ...              ...            ...   \n",
       "31096       POLICE                 F           Salary            NaN   \n",
       "31097       POLICE                 F           Salary            NaN   \n",
       "31098       POLICE                 F           Salary            NaN   \n",
       "31099       POLICE                 F           Salary            NaN   \n",
       "31100         DAIS                 F           Salary            NaN   \n",
       "\n",
       "       Annual Salary  Hourly Rate  \n",
       "0           122568.0          NaN  \n",
       "1           110796.0          NaN  \n",
       "2           122112.0          NaN  \n",
       "3                NaN         45.9  \n",
       "4            86730.0          NaN  \n",
       "...              ...          ...  \n",
       "31096        90990.0          NaN  \n",
       "31097        95586.0          NaN  \n",
       "31098       102372.0          NaN  \n",
       "31099       109236.0          NaN  \n",
       "31100       142176.0          NaN  \n",
       "\n",
       "[31101 rows x 8 columns]"
      ]
     },
     "execution_count": 6,
     "metadata": {},
     "output_type": "execute_result"
    }
   ],
   "source": [
    "## load data as df\n",
    "df = pd.read_csv('salary.csv')\n",
    "df.info()\n",
    "df"
   ]
  },
  {
   "cell_type": "code",
   "execution_count": 7,
   "id": "60df1185",
   "metadata": {
    "ExecuteTime": {
     "end_time": "2022-06-02T23:51:09.881371Z",
     "start_time": "2022-06-02T23:51:09.716169Z"
    }
   },
   "outputs": [
    {
     "data": {
      "image/png": "[encoded data removed]",
      "text/plain": [
       "<Figure size 432x288 with 1 Axes>"
      ]
     },
     "metadata": {
      "needs_background": "light"
     },
     "output_type": "display_data"
    }
   ],
   "source": [
    "ax = sns.histplot(data=df, x='Annual Salary',stat='density')"
   ]
  },
  {
   "cell_type": "code",
   "execution_count": 8,
   "id": "6db85d8d",
   "metadata": {
    "ExecuteTime": {
     "end_time": "2022-06-02T23:51:10.056247Z",
     "start_time": "2022-06-02T23:51:09.882565Z"
    }
   },
   "outputs": [
    {
     "data": {
      "image/png": "[encoded data removed]",
      "text/plain": [
       "<Figure size 432x288 with 1 Axes>"
      ]
     },
     "metadata": {
      "needs_background": "light"
     },
     "output_type": "display_data"
    }
   ],
   "source": [
    "ax = sns.histplot(data=df, x='Annual Salary',stat='density', kde=True)\n",
    "ax.axvline(df['Annual Salary'].mean(), label=\"mean\", color='tab:red',ls=':')\n",
    "ax.legend();"
   ]
  },
  {
   "cell_type": "code",
   "execution_count": 9,
   "id": "6d9b0724",
   "metadata": {
    "ExecuteTime": {
     "end_time": "2022-06-02T23:51:10.168332Z",
     "start_time": "2022-06-02T23:51:10.057243Z"
    }
   },
   "outputs": [
    {
     "data": {
      "image/png": "[encoded data removed]",
      "text/plain": [
       "<Figure size 432x288 with 1 Axes>"
      ]
     },
     "metadata": {
      "needs_background": "light"
     },
     "output_type": "display_data"
    }
   ],
   "source": [
    "col = 'Hourly Rate'\n",
    "ax = sns.histplot(data=df, x=col,stat='density', kde=True)\n",
    "ax.axvline(df[col].mean(), label=\"mean\", color='tab:red',ls=':')\n",
    "ax.legend();"
   ]
  },
  {
   "cell_type": "code",
   "execution_count": 10,
   "id": "338e2205",
   "metadata": {
    "ExecuteTime": {
     "end_time": "2022-06-02T23:51:10.171178Z",
     "start_time": "2022-06-02T23:51:10.169567Z"
    }
   },
   "outputs": [],
   "source": [
    "# !pip install cdds"
   ]
  },
  {
   "cell_type": "code",
   "execution_count": 11,
   "id": "b0e4468d",
   "metadata": {
    "ExecuteTime": {
     "end_time": "2022-06-02T23:51:10.359951Z",
     "start_time": "2022-06-02T23:51:10.173377Z"
    }
   },
   "outputs": [
    {
     "name": "stdout",
     "output_type": "stream",
     "text": [
      "cdds v0.1.2 loaded.\n"
     ]
    },
    {
     "name": "stderr",
     "output_type": "stream",
     "text": [
      "/opt/homebrew/Caskroom/miniforge/base/envs/dojo-env/lib/python3.8/site-packages/cdds/imports.py:120: FutureWarning: this method is deprecated in favour of `Styler.hide(axis='index')`\n",
      "  dfs = df_imports.style.hide_index().set_caption('Loaded Packages & Info')\n"
     ]
    },
    {
     "data": {
      "text/html": [
       "<style type=\"text/css\">\n",
       "#T_3bf96_row0_col0, #T_3bf96_row0_col2, #T_3bf96_row0_col3, #T_3bf96_row1_col0, #T_3bf96_row1_col2, #T_3bf96_row1_col3, #T_3bf96_row2_col0, #T_3bf96_row2_col2, #T_3bf96_row2_col3, #T_3bf96_row3_col0, #T_3bf96_row3_col2, #T_3bf96_row3_col3, #T_3bf96_row4_col0, #T_3bf96_row4_col2, #T_3bf96_row4_col3, #T_3bf96_row5_col0, #T_3bf96_row5_col2, #T_3bf96_row5_col3, #T_3bf96_row6_col0, #T_3bf96_row6_col2, #T_3bf96_row6_col3, #T_3bf96_row7_col0, #T_3bf96_row7_col2, #T_3bf96_row7_col3 {\n",
       "  text-align: left;\n",
       "}\n",
       "#T_3bf96_row0_col1, #T_3bf96_row0_col4, #T_3bf96_row1_col1, #T_3bf96_row1_col4, #T_3bf96_row2_col1, #T_3bf96_row2_col4, #T_3bf96_row3_col1, #T_3bf96_row3_col4, #T_3bf96_row4_col1, #T_3bf96_row4_col4, #T_3bf96_row5_col1, #T_3bf96_row5_col4, #T_3bf96_row6_col1, #T_3bf96_row6_col4, #T_3bf96_row7_col1, #T_3bf96_row7_col4 {\n",
       "  text-align: left;\n",
       "  text-align: center;\n",
       "}\n",
       "</style>\n",
       "<table id=\"T_3bf96\">\n",
       "  <caption>Loaded Packages & Info</caption>\n",
       "  <thead>\n",
       "    <tr>\n",
       "      <th id=\"T_3bf96_level0_col0\" class=\"col_heading level0 col0\" >Package</th>\n",
       "      <th id=\"T_3bf96_level0_col1\" class=\"col_heading level0 col1\" >Handle</th>\n",
       "      <th id=\"T_3bf96_level0_col2\" class=\"col_heading level0 col2\" >Version</th>\n",
       "      <th id=\"T_3bf96_level0_col3\" class=\"col_heading level0 col3\" >Documentation</th>\n",
       "      <th id=\"T_3bf96_level0_col4\" class=\"col_heading level0 col4\" >Imported</th>\n",
       "    </tr>\n",
       "  </thead>\n",
       "  <tbody>\n",
       "    <tr>\n",
       "      <td id=\"T_3bf96_row0_col0\" class=\"data row0 col0\" >pandas</td>\n",
       "      <td id=\"T_3bf96_row0_col1\" class=\"data row0 col1\" >pd</td>\n",
       "      <td id=\"T_3bf96_row0_col2\" class=\"data row0 col2\" >1.4.2</td>\n",
       "      <td id=\"T_3bf96_row0_col3\" class=\"data row0 col3\" ><a href=\"https://pandas.pydata.org/docs/\">https://pandas.pydata.org/docs/</a></td>\n",
       "      <td id=\"T_3bf96_row0_col4\" class=\"data row0 col4\" >Y</td>\n",
       "    </tr>\n",
       "    <tr>\n",
       "      <td id=\"T_3bf96_row1_col0\" class=\"data row1 col0\" >cdds</td>\n",
       "      <td id=\"T_3bf96_row1_col1\" class=\"data row1 col1\" >ds</td>\n",
       "      <td id=\"T_3bf96_row1_col2\" class=\"data row1 col2\" >0.1.2</td>\n",
       "      <td id=\"T_3bf96_row1_col3\" class=\"data row1 col3\" ><a href=\"Coming Soon!\">Coming Soon!</a></td>\n",
       "      <td id=\"T_3bf96_row1_col4\" class=\"data row1 col4\" >Y</td>\n",
       "    </tr>\n",
       "    <tr>\n",
       "      <td id=\"T_3bf96_row2_col0\" class=\"data row2 col0\" >numpy</td>\n",
       "      <td id=\"T_3bf96_row2_col1\" class=\"data row2 col1\" >np</td>\n",
       "      <td id=\"T_3bf96_row2_col2\" class=\"data row2 col2\" >1.22.4</td>\n",
       "      <td id=\"T_3bf96_row2_col3\" class=\"data row2 col3\" ><a href=\"https://numpy.org/doc/stable/reference/\">https://numpy.org/doc/stable/reference/</a></td>\n",
       "      <td id=\"T_3bf96_row2_col4\" class=\"data row2 col4\" >Y</td>\n",
       "    </tr>\n",
       "    <tr>\n",
       "      <td id=\"T_3bf96_row3_col0\" class=\"data row3 col0\" >matplotlib</td>\n",
       "      <td id=\"T_3bf96_row3_col1\" class=\"data row3 col1\" >mpl</td>\n",
       "      <td id=\"T_3bf96_row3_col2\" class=\"data row3 col2\" >3.5.2</td>\n",
       "      <td id=\"T_3bf96_row3_col3\" class=\"data row3 col3\" ><a href=\"https://matplotlib.org/stable/api/index.html\">https://matplotlib.org/stable/api/index.html</a></td>\n",
       "      <td id=\"T_3bf96_row3_col4\" class=\"data row3 col4\" >Y</td>\n",
       "    </tr>\n",
       "    <tr>\n",
       "      <td id=\"T_3bf96_row4_col0\" class=\"data row4 col0\" >matplotlib.pyplot</td>\n",
       "      <td id=\"T_3bf96_row4_col1\" class=\"data row4 col1\" >plt</td>\n",
       "      <td id=\"T_3bf96_row4_col2\" class=\"data row4 col2\" ></td>\n",
       "      <td id=\"T_3bf96_row4_col3\" class=\"data row4 col3\" ><a href=\"https://matplotlib.org/stable/api/_as_gen/matplotlib.pyplot.html#module-matplotlib.pyplot\">https://matplotlib.org/stable/api/_as_gen/matplotlib.pyplot.html#module-matplotlib.pyplot</a></td>\n",
       "      <td id=\"T_3bf96_row4_col4\" class=\"data row4 col4\" >Y</td>\n",
       "    </tr>\n",
       "    <tr>\n",
       "      <td id=\"T_3bf96_row5_col0\" class=\"data row5 col0\" >seaborn</td>\n",
       "      <td id=\"T_3bf96_row5_col1\" class=\"data row5 col1\" >sns</td>\n",
       "      <td id=\"T_3bf96_row5_col2\" class=\"data row5 col2\" >0.11.2</td>\n",
       "      <td id=\"T_3bf96_row5_col3\" class=\"data row5 col3\" ><a href=\"https://seaborn.pydata.org/api.html\">https://seaborn.pydata.org/api.html</a></td>\n",
       "      <td id=\"T_3bf96_row5_col4\" class=\"data row5 col4\" >Y</td>\n",
       "    </tr>\n",
       "    <tr>\n",
       "      <td id=\"T_3bf96_row6_col0\" class=\"data row6 col0\" >IPython.display</td>\n",
       "      <td id=\"T_3bf96_row6_col1\" class=\"data row6 col1\" >dp</td>\n",
       "      <td id=\"T_3bf96_row6_col2\" class=\"data row6 col2\" ></td>\n",
       "      <td id=\"T_3bf96_row6_col3\" class=\"data row6 col3\" ><a href=\"https://ipython.readthedocs.io/en/stable/api/generated/IPython.display.html\">https://ipython.readthedocs.io/en/stable/api/generated/IPython.display.html</a></td>\n",
       "      <td id=\"T_3bf96_row6_col4\" class=\"data row6 col4\" >Y</td>\n",
       "    </tr>\n",
       "    <tr>\n",
       "      <td id=\"T_3bf96_row7_col0\" class=\"data row7 col0\" >sklearn</td>\n",
       "      <td id=\"T_3bf96_row7_col1\" class=\"data row7 col1\" ></td>\n",
       "      <td id=\"T_3bf96_row7_col2\" class=\"data row7 col2\" >1.1.1</td>\n",
       "      <td id=\"T_3bf96_row7_col3\" class=\"data row7 col3\" ><a href=\"\"></a></td>\n",
       "      <td id=\"T_3bf96_row7_col4\" class=\"data row7 col4\" >N</td>\n",
       "    </tr>\n",
       "  </tbody>\n",
       "</table>\n"
      ],
      "text/plain": [
       "<pandas.io.formats.style.Styler at 0x152459520>"
      ]
     },
     "metadata": {},
     "output_type": "display_data"
    }
   ],
   "source": [
    "from cdds.imports import *"
   ]
  },
  {
   "cell_type": "code",
   "execution_count": 12,
   "id": "7d883d89",
   "metadata": {},
   "outputs": [
    {
     "data": {
      "text/html": [
       "<div>\n",
       "<style scoped>\n",
       "    .dataframe tbody tr th:only-of-type {\n",
       "        vertical-align: middle;\n",
       "    }\n",
       "\n",
       "    .dataframe tbody tr th {\n",
       "        vertical-align: top;\n",
       "    }\n",
       "\n",
       "    .dataframe thead th {\n",
       "        text-align: right;\n",
       "    }\n",
       "</style>\n",
       "<table border=\"1\" class=\"dataframe\">\n",
       "  <thead>\n",
       "    <tr style=\"text-align: right;\">\n",
       "      <th></th>\n",
       "      <th>Gender</th>\n",
       "      <th>Height</th>\n",
       "      <th>Weight</th>\n",
       "    </tr>\n",
       "  </thead>\n",
       "  <tbody>\n",
       "    <tr>\n",
       "      <th>0</th>\n",
       "      <td>Male</td>\n",
       "      <td>73.847017</td>\n",
       "      <td>241.893563</td>\n",
       "    </tr>\n",
       "    <tr>\n",
       "      <th>1</th>\n",
       "      <td>Male</td>\n",
       "      <td>68.781904</td>\n",
       "      <td>162.310473</td>\n",
       "    </tr>\n",
       "    <tr>\n",
       "      <th>2</th>\n",
       "      <td>Male</td>\n",
       "      <td>74.110105</td>\n",
       "      <td>212.740856</td>\n",
       "    </tr>\n",
       "    <tr>\n",
       "      <th>3</th>\n",
       "      <td>Male</td>\n",
       "      <td>71.730978</td>\n",
       "      <td>220.042470</td>\n",
       "    </tr>\n",
       "    <tr>\n",
       "      <th>4</th>\n",
       "      <td>Male</td>\n",
       "      <td>69.881796</td>\n",
       "      <td>206.349801</td>\n",
       "    </tr>\n",
       "    <tr>\n",
       "      <th>...</th>\n",
       "      <td>...</td>\n",
       "      <td>...</td>\n",
       "      <td>...</td>\n",
       "    </tr>\n",
       "    <tr>\n",
       "      <th>9995</th>\n",
       "      <td>Female</td>\n",
       "      <td>66.172652</td>\n",
       "      <td>136.777454</td>\n",
       "    </tr>\n",
       "    <tr>\n",
       "      <th>9996</th>\n",
       "      <td>Female</td>\n",
       "      <td>67.067155</td>\n",
       "      <td>170.867906</td>\n",
       "    </tr>\n",
       "    <tr>\n",
       "      <th>9997</th>\n",
       "      <td>Female</td>\n",
       "      <td>63.867992</td>\n",
       "      <td>128.475319</td>\n",
       "    </tr>\n",
       "    <tr>\n",
       "      <th>9998</th>\n",
       "      <td>Female</td>\n",
       "      <td>69.034243</td>\n",
       "      <td>163.852461</td>\n",
       "    </tr>\n",
       "    <tr>\n",
       "      <th>9999</th>\n",
       "      <td>Female</td>\n",
       "      <td>61.944246</td>\n",
       "      <td>113.649103</td>\n",
       "    </tr>\n",
       "  </tbody>\n",
       "</table>\n",
       "<p>10000 rows × 3 columns</p>\n",
       "</div>"
      ],
      "text/plain": [
       "      Gender     Height      Weight\n",
       "0       Male  73.847017  241.893563\n",
       "1       Male  68.781904  162.310473\n",
       "2       Male  74.110105  212.740856\n",
       "3       Male  71.730978  220.042470\n",
       "4       Male  69.881796  206.349801\n",
       "...      ...        ...         ...\n",
       "9995  Female  66.172652  136.777454\n",
       "9996  Female  67.067155  170.867906\n",
       "9997  Female  63.867992  128.475319\n",
       "9998  Female  69.034243  163.852461\n",
       "9999  Female  61.944246  113.649103\n",
       "\n",
       "[10000 rows x 3 columns]"
      ]
     },
     "execution_count": 12,
     "metadata": {},
     "output_type": "execute_result"
    }
   ],
   "source": [
    "df = ds.datasets.load_height_weight()\n",
    "df"
   ]
  },
  {
   "cell_type": "code",
   "execution_count": 13,
   "id": "5a027c1d",
   "metadata": {},
   "outputs": [
    {
     "data": {
      "image/png": "[encoded data removed]",
      "text/plain": [
       "<Figure size 432x288 with 1 Axes>"
      ]
     },
     "metadata": {
      "needs_background": "light"
     },
     "output_type": "display_data"
    }
   ],
   "source": [
    "col = 'Height'\n",
    "ax = sns.histplot(data=df, x=col,stat='density', kde=True)\n",
    "ax.axvline(df[col].mean(), label=\"mean\", color='tab:red',ls=':')\n",
    "ax.legend();"
   ]
  },
  {
   "cell_type": "code",
   "execution_count": null,
   "id": "be610207",
   "metadata": {},
   "outputs": [],
   "source": []
  }
 ],
 "metadata": {
  "kernelspec": {
   "display_name": "Python (dojo-env)",
   "language": "python",
   "name": "dojo-env"
  },
  "language_info": {
   "codemirror_mode": {
    "name": "ipython",
    "version": 3
   },
   "file_extension": ".py",
   "mimetype": "text/x-python",
   "name": "python",
   "nbconvert_exporter": "python",
   "pygments_lexer": "ipython3",
   "version": "3.8.13"
  },
  "toc": {
   "base_numbering": 1,
   "nav_menu": {},
   "number_sections": false,
   "sideBar": true,
   "skip_h1_title": false,
   "title_cell": "Table of Contents",
   "title_sidebar": "Contents",
   "toc_cell": false,
   "toc_position": {},
   "toc_section_display": true,
   "toc_window_display": false
  }
 },
 "nbformat": 4,
 "nbformat_minor": 5
}
