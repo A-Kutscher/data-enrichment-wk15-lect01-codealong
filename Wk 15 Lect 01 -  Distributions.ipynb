{
 "cells": [
  {
   "cell_type": "markdown",
   "id": "819768dd",
   "metadata": {},
   "source": [
    "# Distributions"
   ]
  },
  {
   "cell_type": "code",
   "execution_count": 30,
   "id": "e4b02c30",
   "metadata": {
    "ExecuteTime": {
     "end_time": "2022-06-02T23:44:41.288076Z",
     "start_time": "2022-06-02T23:44:41.280051Z"
    }
   },
   "outputs": [],
   "source": [
    "import pandas as pd\n",
    "import numpy as np\n",
    "import matplotlib.pyplot as plt\n",
    "import seaborn as sns\n",
    "from scipy import stats\n",
    "\n",
    "sns.set_context('talk')\n",
    "plt.rcParams['figure.figsize'] = [10,6]"
   ]
  },
  {
   "cell_type": "code",
   "execution_count": 37,
   "id": "9ae80ced",
   "metadata": {
    "ExecuteTime": {
     "end_time": "2022-06-02T23:45:14.011671Z",
     "start_time": "2022-06-02T23:45:14.004384Z"
    }
   },
   "outputs": [],
   "source": [
    "# !pip install kaggle"
   ]
  },
  {
   "cell_type": "code",
   "execution_count": 31,
   "id": "584e0cc6",
   "metadata": {
    "ExecuteTime": {
     "end_time": "2022-06-02T23:44:42.863162Z",
     "start_time": "2022-06-02T23:44:41.884254Z"
    }
   },
   "outputs": [
    {
     "name": "stdout",
     "output_type": "stream",
     "text": [
      "employees-annual-salary-in-chicago.zip: Skipping, found more recently modified local copy (use --force to force download)\n",
      "\u001b[34m.\u001b[m\u001b[m                                      LICENSE\n",
      "\u001b[34m..\u001b[m\u001b[m                                     README.md\n",
      "\u001b[34m.git\u001b[m\u001b[m                                   Wk 15 Lect 01 -  Distributions.ipynb\n",
      ".gitattributes                         employees-annual-salary-in-chicago.zip\n",
      ".gitignore                             salary.csv\n",
      "\u001b[34m.ipynb_checkpoints\u001b[m\u001b[m\n"
     ]
    }
   ],
   "source": [
    "## download kaggle dataset using kaggle api\n",
    "# employee annual salary: https://www.kaggle.com/datasets/dsfelix/employees-annual-salary-in-chicago\n",
    "!kaggle datasets download -d dsfelix/employees-annual-salary-in-chicago\n",
    "!ls -a"
   ]
  },
  {
   "cell_type": "code",
   "execution_count": 35,
   "id": "7686f518",
   "metadata": {
    "ExecuteTime": {
     "end_time": "2022-06-02T23:45:01.320902Z",
     "start_time": "2022-06-02T23:44:54.749160Z"
    }
   },
   "outputs": [
    {
     "name": "stdout",
     "output_type": "stream",
     "text": [
      "Archive:  employees-annual-salary-in-chicago.zip\n",
      "replace salary.csv? [y]es, [n]o, [A]ll, [N]one, [r]ename: ^C\n"
     ]
    }
   ],
   "source": [
    "## unzip the downloaded dataset\n",
    "!unzip employees-annual-salary-in-chicago.zip"
   ]
  },
  {
   "cell_type": "code",
   "execution_count": 48,
   "id": "b4553aea",
   "metadata": {
    "ExecuteTime": {
     "end_time": "2022-06-02T23:48:18.808710Z",
     "start_time": "2022-06-02T23:48:18.740270Z"
    }
   },
   "outputs": [
    {
     "name": "stdout",
     "output_type": "stream",
     "text": [
      "<class 'pandas.core.frame.DataFrame'>\n",
      "RangeIndex: 31101 entries, 0 to 31100\n",
      "Data columns (total 8 columns):\n",
      " #   Column             Non-Null Count  Dtype  \n",
      "---  ------             --------------  -----  \n",
      " 0   Name               31101 non-null  object \n",
      " 1   Job Titles         31101 non-null  object \n",
      " 2   Department         31101 non-null  object \n",
      " 3   Full or Part-Time  31101 non-null  object \n",
      " 4   Salary or Hourly   31101 non-null  object \n",
      " 5   Typical Hours      6814 non-null   float64\n",
      " 6   Annual Salary      24287 non-null  float64\n",
      " 7   Hourly Rate        6814 non-null   float64\n",
      "dtypes: float64(3), object(5)\n",
      "memory usage: 1.9+ MB\n"
     ]
    },
    {
     "data": {
      "text/html": [
       "<div>\n",
       "<style scoped>\n",
       "    .dataframe tbody tr th:only-of-type {\n",
       "        vertical-align: middle;\n",
       "    }\n",
       "\n",
       "    .dataframe tbody tr th {\n",
       "        vertical-align: top;\n",
       "    }\n",
       "\n",
       "    .dataframe thead th {\n",
       "        text-align: right;\n",
       "    }\n",
       "</style>\n",
       "<table border=\"1\" class=\"dataframe\">\n",
       "  <thead>\n",
       "    <tr style=\"text-align: right;\">\n",
       "      <th></th>\n",
       "      <th>Name</th>\n",
       "      <th>Job Titles</th>\n",
       "      <th>Department</th>\n",
       "      <th>Full or Part-Time</th>\n",
       "      <th>Salary or Hourly</th>\n",
       "      <th>Typical Hours</th>\n",
       "      <th>Annual Salary</th>\n",
       "      <th>Hourly Rate</th>\n",
       "    </tr>\n",
       "  </thead>\n",
       "  <tbody>\n",
       "    <tr>\n",
       "      <th>0</th>\n",
       "      <td>AARON,  JEFFERY M</td>\n",
       "      <td>SERGEANT</td>\n",
       "      <td>POLICE</td>\n",
       "      <td>F</td>\n",
       "      <td>Salary</td>\n",
       "      <td>NaN</td>\n",
       "      <td>122568.0</td>\n",
       "      <td>NaN</td>\n",
       "    </tr>\n",
       "    <tr>\n",
       "      <th>1</th>\n",
       "      <td>AARON,  KARINA</td>\n",
       "      <td>POLICE OFFICER (ASSIGNED AS DETECTIVE)</td>\n",
       "      <td>POLICE</td>\n",
       "      <td>F</td>\n",
       "      <td>Salary</td>\n",
       "      <td>NaN</td>\n",
       "      <td>110796.0</td>\n",
       "      <td>NaN</td>\n",
       "    </tr>\n",
       "    <tr>\n",
       "      <th>2</th>\n",
       "      <td>ABAD JR,  VICENTE M</td>\n",
       "      <td>CIVIL ENGINEER IV</td>\n",
       "      <td>WATER MGMNT</td>\n",
       "      <td>F</td>\n",
       "      <td>Salary</td>\n",
       "      <td>NaN</td>\n",
       "      <td>122112.0</td>\n",
       "      <td>NaN</td>\n",
       "    </tr>\n",
       "    <tr>\n",
       "      <th>3</th>\n",
       "      <td>ABARCA,  EMMANUEL</td>\n",
       "      <td>CONCRETE LABORER</td>\n",
       "      <td>TRANSPORTN</td>\n",
       "      <td>F</td>\n",
       "      <td>Hourly</td>\n",
       "      <td>40.0</td>\n",
       "      <td>NaN</td>\n",
       "      <td>45.9</td>\n",
       "    </tr>\n",
       "    <tr>\n",
       "      <th>4</th>\n",
       "      <td>ABARCA,  FRANCES J</td>\n",
       "      <td>POLICE OFFICER</td>\n",
       "      <td>POLICE</td>\n",
       "      <td>F</td>\n",
       "      <td>Salary</td>\n",
       "      <td>NaN</td>\n",
       "      <td>86730.0</td>\n",
       "      <td>NaN</td>\n",
       "    </tr>\n",
       "    <tr>\n",
       "      <th>...</th>\n",
       "      <td>...</td>\n",
       "      <td>...</td>\n",
       "      <td>...</td>\n",
       "      <td>...</td>\n",
       "      <td>...</td>\n",
       "      <td>...</td>\n",
       "      <td>...</td>\n",
       "      <td>...</td>\n",
       "    </tr>\n",
       "    <tr>\n",
       "      <th>31096</th>\n",
       "      <td>ZYLINSKA,  KLAUDIA</td>\n",
       "      <td>POLICE OFFICER</td>\n",
       "      <td>POLICE</td>\n",
       "      <td>F</td>\n",
       "      <td>Salary</td>\n",
       "      <td>NaN</td>\n",
       "      <td>90990.0</td>\n",
       "      <td>NaN</td>\n",
       "    </tr>\n",
       "    <tr>\n",
       "      <th>31097</th>\n",
       "      <td>ZYMANTAS,  LAURA C</td>\n",
       "      <td>POLICE OFFICER</td>\n",
       "      <td>POLICE</td>\n",
       "      <td>F</td>\n",
       "      <td>Salary</td>\n",
       "      <td>NaN</td>\n",
       "      <td>95586.0</td>\n",
       "      <td>NaN</td>\n",
       "    </tr>\n",
       "    <tr>\n",
       "      <th>31098</th>\n",
       "      <td>ZYMANTAS,  MARK E</td>\n",
       "      <td>POLICE OFFICER</td>\n",
       "      <td>POLICE</td>\n",
       "      <td>F</td>\n",
       "      <td>Salary</td>\n",
       "      <td>NaN</td>\n",
       "      <td>102372.0</td>\n",
       "      <td>NaN</td>\n",
       "    </tr>\n",
       "    <tr>\n",
       "      <th>31099</th>\n",
       "      <td>ZYRKOWSKI,  CARLO E</td>\n",
       "      <td>POLICE OFFICER</td>\n",
       "      <td>POLICE</td>\n",
       "      <td>F</td>\n",
       "      <td>Salary</td>\n",
       "      <td>NaN</td>\n",
       "      <td>109236.0</td>\n",
       "      <td>NaN</td>\n",
       "    </tr>\n",
       "    <tr>\n",
       "      <th>31100</th>\n",
       "      <td>ZYSKOWSKI,  DARIUSZ</td>\n",
       "      <td>CHIEF DATA BASE ANALYST</td>\n",
       "      <td>DAIS</td>\n",
       "      <td>F</td>\n",
       "      <td>Salary</td>\n",
       "      <td>NaN</td>\n",
       "      <td>142176.0</td>\n",
       "      <td>NaN</td>\n",
       "    </tr>\n",
       "  </tbody>\n",
       "</table>\n",
       "<p>31101 rows × 8 columns</p>\n",
       "</div>"
      ],
      "text/plain": [
       "                      Name                              Job Titles  \\\n",
       "0        AARON,  JEFFERY M                                SERGEANT   \n",
       "1           AARON,  KARINA  POLICE OFFICER (ASSIGNED AS DETECTIVE)   \n",
       "2      ABAD JR,  VICENTE M                       CIVIL ENGINEER IV   \n",
       "3        ABARCA,  EMMANUEL                        CONCRETE LABORER   \n",
       "4       ABARCA,  FRANCES J                          POLICE OFFICER   \n",
       "...                    ...                                     ...   \n",
       "31096   ZYLINSKA,  KLAUDIA                          POLICE OFFICER   \n",
       "31097   ZYMANTAS,  LAURA C                          POLICE OFFICER   \n",
       "31098    ZYMANTAS,  MARK E                          POLICE OFFICER   \n",
       "31099  ZYRKOWSKI,  CARLO E                          POLICE OFFICER   \n",
       "31100  ZYSKOWSKI,  DARIUSZ                 CHIEF DATA BASE ANALYST   \n",
       "\n",
       "        Department Full or Part-Time Salary or Hourly  Typical Hours  \\\n",
       "0           POLICE                 F           Salary            NaN   \n",
       "1           POLICE                 F           Salary            NaN   \n",
       "2      WATER MGMNT                 F           Salary            NaN   \n",
       "3       TRANSPORTN                 F           Hourly           40.0   \n",
       "4           POLICE                 F           Salary            NaN   \n",
       "...            ...               ...              ...            ...   \n",
       "31096       POLICE                 F           Salary            NaN   \n",
       "31097       POLICE                 F           Salary            NaN   \n",
       "31098       POLICE                 F           Salary            NaN   \n",
       "31099       POLICE                 F           Salary            NaN   \n",
       "31100         DAIS                 F           Salary            NaN   \n",
       "\n",
       "       Annual Salary  Hourly Rate  \n",
       "0           122568.0          NaN  \n",
       "1           110796.0          NaN  \n",
       "2           122112.0          NaN  \n",
       "3                NaN         45.9  \n",
       "4            86730.0          NaN  \n",
       "...              ...          ...  \n",
       "31096        90990.0          NaN  \n",
       "31097        95586.0          NaN  \n",
       "31098       102372.0          NaN  \n",
       "31099       109236.0          NaN  \n",
       "31100       142176.0          NaN  \n",
       "\n",
       "[31101 rows x 8 columns]"
      ]
     },
     "execution_count": 48,
     "metadata": {},
     "output_type": "execute_result"
    }
   ],
   "source": [
    "## load data as df\n",
    "df = pd.read_csv('salary.csv')\n",
    "df.info()\n",
    "df"
   ]
  },
  {
   "cell_type": "code",
   "execution_count": 38,
   "id": "60df1185",
   "metadata": {
    "ExecuteTime": {
     "end_time": "2022-06-02T23:45:48.310406Z",
     "start_time": "2022-06-02T23:45:48.141804Z"
    }
   },
   "outputs": [
    {
     "data": {
      "image/png": "[encoded data removed]",
      "text/plain": [
       "<Figure size 720x432 with 1 Axes>"
      ]
     },
     "metadata": {
      "needs_background": "light"
     },
     "output_type": "display_data"
    }
   ],
   "source": [
    "ax = sns.histplot(data=df, x='Annual Salary',stat='density')"
   ]
  },
  {
   "cell_type": "code",
   "execution_count": 46,
   "id": "6db85d8d",
   "metadata": {
    "ExecuteTime": {
     "end_time": "2022-06-02T23:47:25.806533Z",
     "start_time": "2022-06-02T23:47:25.607122Z"
    }
   },
   "outputs": [
    {
     "data": {
      "image/png": "[encoded data removed]",
      "text/plain": [
       "<Figure size 720x432 with 1 Axes>"
      ]
     },
     "metadata": {
      "needs_background": "light"
     },
     "output_type": "display_data"
    }
   ],
   "source": [
    "ax = sns.histplot(data=df, x='Annual Salary',stat='density', kde=True)\n",
    "ax.axvline(df['Annual Salary'].mean(), label=\"mean\", color='tab:red',ls=':')\n",
    "ax.legend();"
   ]
  },
  {
   "cell_type": "code",
   "execution_count": 47,
   "id": "6d9b0724",
   "metadata": {
    "ExecuteTime": {
     "end_time": "2022-06-02T23:48:03.799471Z",
     "start_time": "2022-06-02T23:48:03.649246Z"
    }
   },
   "outputs": [
    {
     "data": {
      "image/png": "[encoded data removed]",
      "text/plain": [
       "<Figure size 720x432 with 1 Axes>"
      ]
     },
     "metadata": {
      "needs_background": "light"
     },
     "output_type": "display_data"
    }
   ],
   "source": [
    "col = 'Hourly Rate'\n",
    "ax = sns.histplot(data=df, x=col,stat='density', kde=True)\n",
    "ax.axvline(df[col].mean(), label=\"mean\", color='tab:red',ls=':')\n",
    "ax.legend();"
   ]
  },
  {
   "cell_type": "code",
   "execution_count": null,
   "id": "338e2205",
   "metadata": {},
   "outputs": [],
   "source": []
  }
 ],
 "metadata": {
  "kernelspec": {
   "display_name": "Python (dojo-env)",
   "language": "python",
   "name": "dojo-env"
  },
  "language_info": {
   "codemirror_mode": {
    "name": "ipython",
    "version": 3
   },
   "file_extension": ".py",
   "mimetype": "text/x-python",
   "name": "python",
   "nbconvert_exporter": "python",
   "pygments_lexer": "ipython3",
   "version": "3.8.13"
  },
  "toc": {
   "base_numbering": 1,
   "nav_menu": {},
   "number_sections": false,
   "sideBar": true,
   "skip_h1_title": false,
   "title_cell": "Table of Contents",
   "title_sidebar": "Contents",
   "toc_cell": false,
   "toc_position": {},
   "toc_section_display": true,
   "toc_window_display": false
  }
 },
 "nbformat": 4,
 "nbformat_minor": 5
}
